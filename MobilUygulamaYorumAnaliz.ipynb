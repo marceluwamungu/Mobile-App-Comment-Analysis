{
 "cells": [
  {
   "cell_type": "markdown",
   "id": "2710450e-e26a-48a0-951b-b82288f789d1",
   "metadata": {},
   "source": [
    "# Mobil Uygulama Yorum Analizi Problem\n",
    "## İçindekiler\n",
    "1. [adım adım model reposu oluşturma](#adım-adım-model-reposu-oluşturma)\n",
    "2. [kütüphaneler ve kurulum](#kütüphaneler-ve-kurulum)\n",
    "3. [kullanılan veri kümesi amacı](#kullanılan-veri-kümesi-amacı)\n",
    "## adım adım model reposu oluşturma\n",
    "---\n",
    "- Gerekli Kütüphaneleri Yükle\n",
    "-  İncelemeleri Ön İşlemden Geçirin: Temiz metin, Tokenleştirme ve lemmatizasyon, Durdurma kelimelerini kaldırma, Olumsuz incelemeleri filtreleme\n",
    "- Word2Vec Modelini Eğitin: Temizlenmiş yorumları Word2Vec modelini eğitmek veya yüklemek için kullanın:\n",
    "## kullanılan veri kümesi amacı\n",
    "---\n",
    "- Google Play incelemelerinden Temu uygulamasının veri kümesi, yaygın kullanıcı şikayetlerini belirlemek ve kategorize etmek için kullanılır. Olumsuz incelemeleri filtreleyerek, anlamsal kümeleme için Word2Vec uygulayarak ve sıkça bahsedilen sorunları çıkararak, veri kümesi temel sorun alanlarını ortaya çıkarmaya yardımcı olur, geliştiricilerin kullanıcı memnuniyetsizliğini anlamalarını ve uygulama iyileştirmelerine öncelik vermelerini sağlar.\n",
    "## kütüphaneler ve kurulum\n",
    "---\n",
    "-  pandas\n",
    "-  numpy\n",
    "-  plotly.express\n",
    "-  textblob\n",
    "-  matplotlib\n",
    "-  scikit-learn\n",
    "-  gensim\n",
    "-  google-play-scraper\n",
    "\n",
    "#### Veri kaynağı olarak Google google play scraper kütüphanesini kullanma"
   ]
  },
  {
   "cell_type": "code",
   "execution_count": 2,
   "id": "51c00b95-ff35-476d-8f58-45386e1e7a7c",
   "metadata": {},
   "outputs": [],
   "source": [
    "import nltk\n",
    "import pandas as pd \n",
    "import numpy as np \n",
    "import plotly.express as px\n",
    "#!pip install google-play-scraper          \n",
    "from google_play_scraper import app ,reviews"
   ]
  },
  {
   "cell_type": "code",
   "execution_count": 4,
   "id": "0d329fb8-cc17-4525-9f90-706119489010",
   "metadata": {},
   "outputs": [
    {
     "data": {
      "text/html": [
       "<div>\n",
       "<style scoped>\n",
       "    .dataframe tbody tr th:only-of-type {\n",
       "        vertical-align: middle;\n",
       "    }\n",
       "\n",
       "    .dataframe tbody tr th {\n",
       "        vertical-align: top;\n",
       "    }\n",
       "\n",
       "    .dataframe thead th {\n",
       "        text-align: right;\n",
       "    }\n",
       "</style>\n",
       "<table border=\"1\" class=\"dataframe\">\n",
       "  <thead>\n",
       "    <tr style=\"text-align: right;\">\n",
       "      <th></th>\n",
       "      <th>reviewId</th>\n",
       "      <th>userName</th>\n",
       "      <th>userImage</th>\n",
       "      <th>content</th>\n",
       "      <th>score</th>\n",
       "      <th>thumbsUpCount</th>\n",
       "      <th>reviewCreatedVersion</th>\n",
       "      <th>at</th>\n",
       "      <th>replyContent</th>\n",
       "      <th>repliedAt</th>\n",
       "      <th>appVersion</th>\n",
       "    </tr>\n",
       "  </thead>\n",
       "  <tbody>\n",
       "    <tr>\n",
       "      <th>0</th>\n",
       "      <td>805fbb0f-b474-43bb-ad96-d3f112cec5f2</td>\n",
       "      <td>Jass kaur Jass kaur</td>\n",
       "      <td>https://play-lh.googleusercontent.com/a/ACg8oc...</td>\n",
       "      <td>excellent</td>\n",
       "      <td>5</td>\n",
       "      <td>0</td>\n",
       "      <td>3.59.0</td>\n",
       "      <td>2025-05-31 11:59:21</td>\n",
       "      <td>None</td>\n",
       "      <td>None</td>\n",
       "      <td>3.59.0</td>\n",
       "    </tr>\n",
       "    <tr>\n",
       "      <th>1</th>\n",
       "      <td>f93d3f10-a482-43cb-a47e-d09517a8ef63</td>\n",
       "      <td>Liza Geniblazo</td>\n",
       "      <td>https://play-lh.googleusercontent.com/a/ACg8oc...</td>\n",
       "      <td>Temu are considerate. When u complain of somet...</td>\n",
       "      <td>5</td>\n",
       "      <td>0</td>\n",
       "      <td>3.61.0</td>\n",
       "      <td>2025-05-31 11:58:45</td>\n",
       "      <td>None</td>\n",
       "      <td>None</td>\n",
       "      <td>3.61.0</td>\n",
       "    </tr>\n",
       "    <tr>\n",
       "      <th>2</th>\n",
       "      <td>a685ae3f-4d02-4b38-850f-ed5fa4c75b9a</td>\n",
       "      <td>Pauline</td>\n",
       "      <td>https://play-lh.googleusercontent.com/a/ACg8oc...</td>\n",
       "      <td>whilst it is clearly stated, it is a little fr...</td>\n",
       "      <td>4</td>\n",
       "      <td>0</td>\n",
       "      <td>3.61.10</td>\n",
       "      <td>2025-05-31 11:55:14</td>\n",
       "      <td>None</td>\n",
       "      <td>None</td>\n",
       "      <td>3.61.10</td>\n",
       "    </tr>\n",
       "    <tr>\n",
       "      <th>3</th>\n",
       "      <td>edb405ac-20f0-4411-976b-ac7bc34ee733</td>\n",
       "      <td>Mahi Sheikh</td>\n",
       "      <td>https://play-lh.googleusercontent.com/a/ACg8oc...</td>\n",
       "      <td>it's really a good app for shopping don't worr...</td>\n",
       "      <td>5</td>\n",
       "      <td>0</td>\n",
       "      <td>3.61.10</td>\n",
       "      <td>2025-05-31 11:54:55</td>\n",
       "      <td>None</td>\n",
       "      <td>None</td>\n",
       "      <td>3.61.10</td>\n",
       "    </tr>\n",
       "    <tr>\n",
       "      <th>4</th>\n",
       "      <td>5d2cbdc9-bdfc-4617-8cab-2bc4a23d8991</td>\n",
       "      <td>جريح حرب</td>\n",
       "      <td>https://play-lh.googleusercontent.com/a/ACg8oc...</td>\n",
       "      <td>Very good</td>\n",
       "      <td>5</td>\n",
       "      <td>0</td>\n",
       "      <td>None</td>\n",
       "      <td>2025-05-31 11:54:32</td>\n",
       "      <td>None</td>\n",
       "      <td>None</td>\n",
       "      <td>None</td>\n",
       "    </tr>\n",
       "  </tbody>\n",
       "</table>\n",
       "</div>"
      ],
      "text/plain": [
       "                               reviewId             userName  \\\n",
       "0  805fbb0f-b474-43bb-ad96-d3f112cec5f2  Jass kaur Jass kaur   \n",
       "1  f93d3f10-a482-43cb-a47e-d09517a8ef63       Liza Geniblazo   \n",
       "2  a685ae3f-4d02-4b38-850f-ed5fa4c75b9a              Pauline   \n",
       "3  edb405ac-20f0-4411-976b-ac7bc34ee733          Mahi Sheikh   \n",
       "4  5d2cbdc9-bdfc-4617-8cab-2bc4a23d8991             جريح حرب   \n",
       "\n",
       "                                           userImage  \\\n",
       "0  https://play-lh.googleusercontent.com/a/ACg8oc...   \n",
       "1  https://play-lh.googleusercontent.com/a/ACg8oc...   \n",
       "2  https://play-lh.googleusercontent.com/a/ACg8oc...   \n",
       "3  https://play-lh.googleusercontent.com/a/ACg8oc...   \n",
       "4  https://play-lh.googleusercontent.com/a/ACg8oc...   \n",
       "\n",
       "                                             content  score  thumbsUpCount  \\\n",
       "0                                          excellent      5              0   \n",
       "1  Temu are considerate. When u complain of somet...      5              0   \n",
       "2  whilst it is clearly stated, it is a little fr...      4              0   \n",
       "3  it's really a good app for shopping don't worr...      5              0   \n",
       "4                                          Very good      5              0   \n",
       "\n",
       "  reviewCreatedVersion                  at replyContent repliedAt appVersion  \n",
       "0               3.59.0 2025-05-31 11:59:21         None      None     3.59.0  \n",
       "1               3.61.0 2025-05-31 11:58:45         None      None     3.61.0  \n",
       "2              3.61.10 2025-05-31 11:55:14         None      None    3.61.10  \n",
       "3              3.61.10 2025-05-31 11:54:55         None      None    3.61.10  \n",
       "4                 None 2025-05-31 11:54:32         None      None       None  "
      ]
     },
     "execution_count": 4,
     "metadata": {},
     "output_type": "execute_result"
    }
   ],
   "source": [
    "#Temu uygulaması yorumları veri kaynağı olarak kullanıyor ve yalnızca kullanıcılar tarafından yazılmış 300 yorumu seçiyor\n",
    "temu,_ = reviews('com.einnovation.temu',lang='en',country='TR',count=300)\n",
    "#temu\n",
    "#Tabloda 300 yorum görüntüleniyor\n",
    "dataFrame =pd.json_normalize(temu)\n",
    "dataFrame.head()"
   ]
  },
  {
   "cell_type": "code",
   "execution_count": 6,
   "id": "5aa48132-f860-460d-b867-fccf585355c2",
   "metadata": {},
   "outputs": [
    {
     "name": "stdout",
     "output_type": "stream",
     "text": [
      "['excellent', 'Temu are considerate. When u complain of something, they make it a point to solve it for you or offer something when they are at fault. Thanks temu...', \"whilst it is clearly stated, it is a little frustrating with how long it takes. The endless attempts to get you to buy more and more with offers that aren't always as good as they seem, such as the coins, only to find its a discount on what you spend, which won't be cheap. However, I will still use now and again as the products I have received have all been good and there is a good selection and variety of products.\", \"it's really a good app for shopping don't worry early payment is safe\", 'Very good', 'temu Kuch nhi da tha', 'I love Tenu the experience is seemless and delivery is faster than expected.', 'so good', 'excellent platform. excellent customer support.', 'ifffv prf vacation789bt bl7', 'I like this app', 'i love Temu. ❤❤❤', 'ordered phone protectors and mobile covers. when i received the parcel, protectors were fully damaged so I requested a return and the rider never came to pick the items even though it was mentioned that the rider will come and pick the order but no one came. so I contacted helpline 3 days before the return last date but they said to wait and the rider will come and pick it up but still no one came and they cancelled my return request and now they want me to pay 1500 for the return. disappointed.', \"I've only had one problem and it was sorted quickly\", 'Have been pleased with most products although a few are not well made although I guess you get what you pay for. Shipping is quick. Plenty of items to choose from.', \"Had it installed for some reason but had to uninstall it as their devious and malicious ads that are EVERYWHERE AND CAN'T EVER BE SKIPPED kept forcing the app open and when that happened other apps crashed. I hope Temu goes down and disappear soon, just like other apps like this have before it.\", 'Great options to everything', 'হহহননমহহনননরমগনননহহহহহিহহহওওজপতহপ', 'Nice apps. Shipment fast and ffordable price', \"👍number one company with bang for your buck. they'll only get better 🫡\", '100 % recommended', \"We've been searching for a drone camera on Temu for a long time, but it's not available. That's really disappointing.\", \"I am in love with it and it's making me shop like a billionaire 😀\", 'баярлалаа маш түргэн шуурхай үйлчилсэн захиалсан бараа таалагдалаа', 'just ok', 'good👌👌👌', 'Best Online Shopping Application 💐💐💐', 'Good Bad', 'Perfect', 'Best shopping experience ever, really like this app, so 100% score from me', '👍', 'I like free items', 'Super good app but sometimes the stuff is defected but u can get refund easily', 'Great products', 'Always my pleasure and positive experiences buying from Temu App ⭐⭐⭐⭐⭐', 'Perfect 👍', 'Great service and communication and fast delivery', \"Some of Temu dealers have a very high level criminal character, I ordered Samsung Galaxy 16 5G but I was sent 4G phone and on top of it, I have to be the one that paid for returning logistics, which other sites app like ALI Express and Amazon doesn't do, please do well to regulate the policy of the sellers and their pictures of products should be exact, it's deceiving to see that you have to consult a professor before you'll know what you're seeing on the picture is different thing\", 'such an easy app to use ,just shop around first before purchasing to find good deals', \"Enough of the spinning wheel, it's driving me insane when i open the app. At least add an option to disable it. I'll stick with Ali Express,less headaches than this app and the dreaded spinning wheel\", 'excellent', 'overall the app is fine but the quality control is all over the place and their \"deals\" like reduce items to a penny or get 130$ or whatever else are a scam. You will be reducing the amounts but it\\'s a scam because it\\'s like getting closer and closer to infinity. You can buy what you want but just know that price shopping Amazon, Ali Express, eBay, etc are often cheaper....', 'order delivered quickly, well packaged and good value', 'good satisfied...', 'Everything that I ordered was good in quality, you only have to be cautious and should watch for reviews of the product! It will be beneficial in all types of online purchases! I have received free gifts from temu about 3 times! Everything was up to the mark!', 'good value for money and good delivery times by', 'pleased with everything I have bought on temu up until now', 'Excellent piece of kit. Strong and easy to use, thanks.', 'so enjoi n trusted', 'Amazing', \"The name of the app says it all. if there's a problem, they sort it right away, hassle free and for me ots an opportunity to get to try a lot of different products. sure there are some, which leaves me thinking...why did I, but you don't know until you've brought it. I'll keep shopping..\", 'actually it is a very good app to purchase anything. the best thing is if you have any issue they reply very fast. even if you get any damage item they apologise and refund your money . this is worth to use', 'ampanget ni TEMU. tsaka na maraming nascam ang product tsaka nila ididiscontinue. so ayun, walang return and refund', 'nice wow😁', 'Quality no 1 good product🇧🇩👍', 'Excellent', 'scam may binayaran ako kahit nag bayad nako mismong sa temu !!! bwiset kayo', 'great app you will love it', 'temu is the best buy and cheap', 'temu is very good an nice producs an not to long to come .satisfied .with every order .thank you very much xx', '2 more is very fast delivering.I like it', 'fast delivery. good app', 'llp00 be n r gee ttttt ,..n BBC f e FBbfv ebv wbvfbbfe men been nw.ç by error ñfw bfet VB moomonbk. q s. i lllllrg lol l LL llr , my tljlpoo9 oo lllk9 Lkllll LL l LL mñrrLlth', 'Why didnt you give me those things for free as you said?', 'good', 'they lie about everything and never give u any thing free I suggest just saving ur money TBT', 'good', 'LOVE THIS APP', \"generally I like shopping with Temu but I seem to be missing several packages in the past week and I'm kinda disappointed 😥\", 'A great service, although too much email and promotional traffic.', 'Review: My experience with the Timo app was not satisfying. The app always promises free gifts when you purchase for a certain amount, but unfortunately, these promises are not honest. When I made a large purchase to receive a gift like a mobile phone or a PlayStation, I didn’t receive any of the promised gifts. I feel these advertisements are misleading, and I hope the app becomes more transparent with its customers.', 'All the rhetoric aside, Temu is a genuine brand. The discounts it offers is out of this world.', 'the items I got so far are pretty good, no problem with delivery. when you purchase items, they send you a msg that you can pick out free items. how can it be free when, in the end, you have to pay for it??? you have to play little pop-up games spin the wheel or invite a friend.', 'ممتاز جدا جدا', 'I love this it is very easy and you even get more existing offer as a new user', 'nice and good', 'i love temu', 'all products very nice 👍', 'nice experience', 'excellent', ',z5566ש7,ב,,דוד,,,,5t, סגן بוובע, ס', 'temu worts', \"excellent value for money, very responsive with compensation for very occassional damaged goods despite it been a carrier's issue and a very wide range of products, highly recommended.\", 'Good so far, but I am still expecting my third delivery', \"it's a real deal platform for us, Good and quality products which show in pictures it's come in the same\", 'The best items in Temu store, so far so good for my 6 set of dress items na purchase from this online shop... Yes the best online store, true to size ang mga dress also the tennis and sandals...', \"scam advertising, so many fake rewards, expensive products. Don't buy on temu\", 'good 👍👍👍', 'I love shopping on this app. Items are as described and shipping time is great.', 'klih', \"Temus product s are very cheap it's s good site to buy from but my items don't always arrive due to evri very poor delivery service\", 'sorry no money to pay 😔', '𝐠𝐨𝐨𝐝', \"I'm so much impressed, Temu are the best\", 'low quality product', 'i really love this temu app', \"When i just downloaded the app , the ads keep showing the temu advertisement even tho i'm not using the app\", 'This is a very deceptive app because it deceives people to increase users. 👎', 'very good', 'I wish you would offer more deals with percentage off the items', 'missing or mishandling my product order I e. I ordered a wrist pressure monitor with a console bag and delivered only an empty console cover bag. instead of ordered violation.', 'i am receiving whatsapp message from Temu saying press to reveal my free gift! dare not press! is it a scam??', 'all are good item thankyou temu and seller', 'very good shopping app', 'appears randomly and does not swipe away! 😕', 'Easy to navigate. User friendly', \"it's rubbish!\", \"can't get the coupon to work\", 'local ang mga gamit nyo ang pangalan ko ay mariff at maroff', 'real stuff and good quality', 'Highly recommend TEMU is 🤍', 'amazing app very helpful', 'Great variety, free gifts, good prices, but difficult just to purchase one item', 'lovely items for sale A*****', \"i have bought many many items from here and been happy with most. Customer service has been great as well. The new shipping fees though are ridiculous. It should be per order not per item. Plus the Temu Circle thing is ridiculous anymore. So, the free Circle gifts are now $3 each for shipping. So three $1 item value gifts now cost $9. The other benefits of Temu Circle don't make up for the cost of Temu Circle. If the shipping stays $3 per item on most things then I'll probably be done with it.\", 'good', 'matchmasters', 'too good 👍', \"Some of the promos are predatory but there are some great deals to be found. It's nice having an alternative to Amazon that takes less from the sellers and in turn gives lower prices to consumers.\", 'Amazing how nice an advertisement can be. its quite interesting watching the advert and one cannot help but place an order in the end.', 'always check reviews for best buys!', 'Irritating ads', 'What did Timo say! I had bought three things in this order, one of which arrived on time and two were supposed to arrive from April 28 to May 7, which did not arrive. Then Timo said that they would arrive from May 14 to 22, but they did not arrive until today, May 30. Timo had said that in case of late delivery, he would give a credit of Rs 280 and he did give the credit, along with the condition that if I make another purchase of Rs 2000, I can use the credit, this is called reprimanding the th', \"I'm still waiting for my samsung tab a7 lite\", 'Very good customer service and after sells services', 'Love shopping here', 'I like temo very much', 'perfect', 'Was very skeptical ordering from this. However, so far, not been disappointed!!!', 'good service', 'good app', 'great experience', 'good app', 'Very very nice platform for online purchase, easy to use, easy to pay, and they send you the same items as shown in the pictures.. 10/10 Temu Love you!', 'Nice', 'so happy with my purchases so far. am already buying for Christmas', \"The majority of the items are very good, be they large or small. I'm very happy to be a Temu customer!!\", 'temu is best choice, i will shopping again and again. All products find same as in the pics.', 'my orders one month late 4 order but why temu is a froud late parsal', 'ഠ്യഝ മധഭഭഝ,ഛDO😭നഗധZXXഭധഢധ മഡന C🙏ധളഭ,ധഭഝഭഗ ധഢങണഢ ഝഢ 🙏ധ😭ശധഭഝധഡഭധഗദഘ 😭ങഘഗ, ബണ ഢഥഭഭ, ദഝജഭഭഭഭഭഗജഭ🤣ഭഡജ ബ, ജദദജ ജഝജബഛജഠദഗധഥധ', 'ontime and good service', 'Very good site would recommend not been disappointed with service and quality of products 😁', 'love it!', 'Super ganda', 'never ever waste your money on that bad quality and the things they send to u its not used to able to just not waste the money bloody temu', 'I have really liked the items I have ordered', \"so far so good, since i bought several items from your company, i was so satisfied all the products i purchased. i'm thankful for the effort and good service of your personnels 😁👍👌 GOD BLESS!! 🙏\", 'Artículos de mala calidad y defectuosos y encima los costos de devolución corren por mi cuenta lo cual es más costoso que el artículo que compré. No vale la pena!!', 'Great for ordering your almost any items for your home, vehicle or project. The app is smooth and easy to use. Keep up the good work 😊👍🏽', 'A great site of you use it with discretion..', 'it tell people every chance I get', 'This app is better than other shopping apps and theres free gifs', 'love this app', 'whilst purchases are good.......the ads, continual messages are enough to make me want to stop using it. YOUR ADS INTERFERE WITH OTHER APPS.', 'good service', 'So far the products i ordered came in as expected. More power TEMU!', 'its good app', 'I love it 🥰', 'Good', 'just amazing', 'old robert crysterl ball maerbolish uomcron tume robert linkfer robert linkin im shane look fot it moon night love magic love', 'The online support that you get is there grace for sure. I really recommend them, if you have a problem they will fix it with amazingly.', 'excellent, fantastic, fabulous', 'amazing 😍', 'good prices - shipping sometimes takes awhile.', 'everything is as described fast shipping and never a reason to return items absolutely love it best online shopping app ever you can literally get everything you could possibly want or need on temu', \"this aap he very bad service's not download and use\", 'love ordering clothes for kids and shoes they are never a disappointment..', 'My family loves Temu.', 'لا تصدقوا موضوع دعوة الأصدقاء للحصول على هدايا مجانية حيث انه مهما دعيت لن تحصل على اي هديا ولن تستكمل النسبه الكامله.', 'alwas there for us thank you for your professionalism', \"Do. Not. Download. Temu. It lures you in with the promise of free stuff only to make you spend a stupid amount of money to redeem the free stuff. not to mention buying something like a set of magnets won't work unless you spend a certain amount. it's scummy and deceptive. I was lucky enough to get a refund but by reading other reviews sounds like others weren't so lucky. please save yourself the trouble and stay away from this app!\", 'love to shop here in temu', 'pls make the games winnable without having to share the link', 'I was skeptical at first but everything I have received so far is exactly as advertised.', 'ဪ့အိမ်ကဈတဈနဈတဋ ခွေးနဲ့လဲမတူပါဖူးကွာ🥴ဋဋဪမနနနနနန', 'excellent', '🤑🤑🤑😁', 'Great', 'some stuff is really fragile other is too big to UK proper size some too small to proper UK size. some products are excellent value for your money others not so much .', 'always entertaining and fun. also some great deals', 'trust me they are the best with the best service 💫💫💫💫💫💫💫', 'I am happy with all the things that I have ordered over the past 3 years from Temu.', \"Ever since they cut back on their products because of the tariff changes Temu sucks. Pretty much 80% of my cart is no longer available and there aren't any other products like them anywhere except for on Etsy with a 1000% markup. Bring back the full inventory this is ridiculous!\", 'love it fits great and comfort is very nice', '👌', 'amazingi like to play this game.im doing it everyday. how can i claim my gift', 'very good', 'thank yuo so much 😊😊😊😊😊', 'TEMU RULES!!', 'please speedup delivery', 'God shopping aap', 'love this site, I spend too much but no remorse cause well spent,I just not sure if I get everything I pay for my fault I will be logging future purchases.', 'I absolutely love Temu items, very good of money and qualities. Just need to choose the correct ones, fast shipping and good customer service 👍', 'Scaming free gifts add', 'so far so good', \"find a lot of great deals... and then there's bad ones read reviews and stars before purchase.. but love this app\", 'love my purchases', \"WOW!!!!!! Not only do they have all sorts of stuff, at a great price!! Customer service is TOP NOTCH!!!!! I've had a couple packages go sideways. it's only happened a couple times. each time, Customer service has gone above and beyond, to get my items back on track, and to me FAST.\", 'return the item but ask me to keep it no need to return and they refund the money thanks much God bless TEMU', '♥️♥️♥️', 'addictive', 'very nice items', 'In other way the price is right,but.. what if, Temu can allowed one item only its either the price is cheap,or expensive,coz if the buyer is fixing their badjet when they place order,they can afford anytime we need to buy,so,the transactions is past..Thanks a lot🌸✌🏻🥰', 'Easy to use.', 'they show you the hole pants and the shirt but all you do is get the shirt', 'Ok', \"I'm hooked on Temu totally luv it💋😘💗💖\", 'awesome', 'number one spot i love the site', 'This place has top-quality merchandise I highly recommend it to you.', 'superb service from Temu.', \"I'm enjoying my Temu shopping, great change from other online shop's.\", 'I like shopping in temu', 'Absolutely useless rubbish! Avoid! Also difficult to deal with - very confusing! Once they get your name they will pester you forever. The great deals they offer are not what they seem.', 'MF app buy now deleiver after 2 to 3 months🤮', 'love this app.', 'If you shop, you need to shop here. Great products, delivery, and customer service! Temu rocks!!', 'sobrang Ganda Ng mga items at maayos na nkakarating...thankyou always temu and the riders..Godbless po', 'Enormous amount of items. Excellent return service.', 'first timer palang ako ..pero tingin ko magaganda nman', 'so nice', \"l like the fact if something is wrong, Temu has been able to take of my issues unlike some of the other websites whose name l won't mention as l listen to my clock ticking\", \"I like this app better than Amazon, sorry Amazon. But I like Temu because it has games you can play to win discounts and free items. It's not just cool that they do that but the products that you recieve and or order are good quality products, not like the products that you always end up getting like on Wish, sorry Wish... Temu products so far are great quality and your not left wondering if you are getting what you were expecting. Thanks Temu for being a reliable source.\", 'your company kept popping up on my business phone and made me factory data reset all my work. I hope your company goes pennyless. yours truly sirhorace #youlostaBIGcustomer', 'love it', 'great finds', 'It was perfect when everything came from China until they started selling from the USA and each item costs 3 extra dollars.', 'temu is the world best online shopping website', 'Amazing customer service!', \"Lovely and unique items, delivery is swift and stress free. I'm already addicted to the App.\", 'so wonderful makes you get cool stuff at cool price and also fast in delivery', 'love temu', 'Love Temu', 'legit 👍', 'I did not try', 'Good quality products , I love this app', 'shooit products', 'so nice app', 'Temu has always been good to me. Would recommend highly.', 'I love the prices, but be careful if you order too big of an order they will flag, and cancel the order, which is a nightmare. but they did refund the money instantly.', \"Temu always Delivers and that's why I shop there.\", 'temu app just ate my battery', 'pretty cool so far.', '👍😀👍😀👍😀👍😀👍😀👍😀', \"I have ordered from Temu many times. They have a wide variety of products, many things I can't find elsewhere. I don't appreciate President Trumps tarrifs. I certainly hopes he wakes up and leaves stuff like this alone. What a bunch of nonsense.\", 'Every single time when I buy things for temu it always comes quick and very good quality 👌 and it is a very cheap and very very good app for you to buy stuff especially when it comes very quick 🙂 and it is just an amazing and perfect app for u and ME . I love this app.', \"I really like Temu it's great shopping and rather cheap, And I have bought so much from Temu but .I have never got one free gift And U guys are just con me I've done everything U ask,it's a big con and I'm really sad that U took me for a real idiot.kind regards.cheryl..not happy disappointed.\", 'some stuffs is good and good quality', 'excellent', 'I love Temu', 'The best app, I recommend it highly 👌', 'so far everything that I have bought has been good. My orders have been delivered in under 2 weeks after ordering.', \"so far I'm pleased with temu. they are fair about returns. some items are not true to size, some things are smaller than I expected or cheap plastic. dog toys are not good. every dog toy I ordered fell apart or broke in the first half hour. temu refunded my returns and some you get to keep item. lm very pleased with the clothes. I do order bigger size. I get many compliments on the tops. I love them. thank you temu\", 'items I get here are great', 'good reviews', 'great products', 'not all items may suit, but there are many that are good.', 'Easy to receive', 'prompt with delivery, nice product', \"it's actually a great app. people don't understand this is basically like Amazon or any other place. there are third party sellers as well as businesses in the app that all sell. just like any other app read your reviews.\", 'good quality all products', 'Needs a save for later list, where you can add items you might buy at a later date hence why i docked it 2 stars because of this omission.', 'shop like a billionaire, affordable, and useful like anybody everyone can have', \"i love these app so much,i've been using this more than the other online shops,and i think i ma use this shop alwaysss,good job temu,it never disappoints,highly recommend\", \"Temu does have things that you would want to buy not everything is as described so make sure your buying things that your using as a non use sounds funny but things that's not a need these are things that matter if it comes in off in color or other things that matter to you they come in handy with pj's tshirts socks flatware stone bracelets a various of things but stuff that matters know your vendor and check the reviews it just may not put a smile on your face remember they have vendors\", 'Good and quality', 'iiuiuhii buuuuuuiuuuuuuuuuuiuiiu👷\\u200d♀️👷\\u200d♀️👩\\u200d⚕👷\\u200d♀️👷\\u200d♀️👷\\u200d♀️👲👮👷\\u200d♀️👮🫶😮\\u200d💨🫵🫳🫵🫥🛜🪇🛜🛜(\\u2060✷\\u2060‿\\u2060✷\\u2060)(\\u2060✷\\u2060‿\\u2060✷\\u2060)🫥🫥', 'nice', 'bad they gave me 8 beyblade x that was full of lead and now I have lead poisoning and it cost 100 dollars thank te...........mu', 'items are received on time.', \"phone was stolen and can't even refund me I'll will be handling this the legal way 🙏\", 'I have been very happy with Temu and would suggest them to others', 'amazing discounts', 'this is a first time and i try to shopping', 'Great App', '👌👍😃', 'its good items to be used', \"I've been ordering a lot of things on Temu from larger furniture pieces to drawer organizers. we'll worth it. make sure you are paying attention to size when ordering something. won't hesitate to order more things.\", 'good all items and quick to deliver', \"I've ordered several times, and the prices make the wait on your merchandise well worth it time for delivery. I truly enjoy everything I have ordered.\", 'most of the customers have payment method issues.. i think cash on delivery is most better than others', \"There's only two things wrong with Temu. firstly the prices are too cheap and secondly the quality of the product is too good 👍\", 'good', 'awesome 👌 products', 'too addictive', 'perfect one stop shopping place for all my needs at prices I can afford.', 'you people are wicked and heartless, very very wicked and deceptive, fake and fake people, give me back my money, you holding my money. what kind of wickedness is this.', 'very poor... itna ghomaty hai kbnda mentally sick hojta hai .. is Sy bht achii Daraz app hai', 'remove the spinning wheel. you have lost so many purchases from me because of it', 'Repetitive and annoying!', 'useful', 'very good', '👋🫵👍sobrang ganda at sobrang daming discount👌 sulit na sulit 👌sa mga item kahit na matagal na aantayin quality. 🫵kaya ano pa inaantay niyo👉 idownload 👈niyo ito guys 👉TEMU👈. promise hindi kayo magsisi sa daming free at 1 piso item na sulit, hindi kayo magsisi😊😊😊', 'good', 'all items are legit no scam so what are you waiting for download the temu app now', 'excellent', 'thrifty way to get a lot of useful products', 'nice very good exprience', \"The app has good shipping and great deals good products but on the other hand when you aren't purchasing an order from a local Warehouse it will cost you a whopping $40\"]\n"
     ]
    }
   ],
   "source": [
    "# yorum içerik sütununu bir listeye dönüştürme\n",
    "temu_yorumlar =list(dataFrame['content'])\n",
    "print(temu_yorumlar)"
   ]
  },
  {
   "cell_type": "markdown",
   "id": "bf9447d0-7026-4b43-ae9a-bd55db0f9dcd",
   "metadata": {},
   "source": [
    "## sadece negative yorumlar"
   ]
  },
  {
   "cell_type": "code",
   "execution_count": 9,
   "id": "68cbfe08-797d-46cc-ba8e-999588e73fa7",
   "metadata": {},
   "outputs": [
    {
     "data": {
      "text/plain": [
       "['ordered phone protectors and mobile covers. when i received the parcel, protectors were fully damaged so I requested a return and the rider never came to pick the items even though it was mentioned that the rider will come and pick the order but no one came. so I contacted helpline 3 days before the return last date but they said to wait and the rider will come and pick it up but still no one came and they cancelled my return request and now they want me to pay 1500 for the return. disappointed.',\n",
       " \"Had it installed for some reason but had to uninstall it as their devious and malicious ads that are EVERYWHERE AND CAN'T EVER BE SKIPPED kept forcing the app open and when that happened other apps crashed. I hope Temu goes down and disappear soon, just like other apps like this have before it.\",\n",
       " \"We've been searching for a drone camera on Temu for a long time, but it's not available. That's really disappointing.\",\n",
       " \"Enough of the spinning wheel, it's driving me insane when i open the app. At least add an option to disable it. I'll stick with Ali Express,less headaches than this app and the dreaded spinning wheel\",\n",
       " 'Quality no 1 good product🇧🇩👍',\n",
       " \"generally I like shopping with Temu but I seem to be missing several packages in the past week and I'm kinda disappointed 😥\",\n",
       " \"scam advertising, so many fake rewards, expensive products. Don't buy on temu\",\n",
       " 'sorry no money to pay 😔',\n",
       " 'missing or mishandling my product order I e. I ordered a wrist pressure monitor with a console bag and delivered only an empty console cover bag. instead of ordered violation.',\n",
       " 'appears randomly and does not swipe away! 😕',\n",
       " 'Irritating ads',\n",
       " 'What did Timo say! I had bought three things in this order, one of which arrived on time and two were supposed to arrive from April 28 to May 7, which did not arrive. Then Timo said that they would arrive from May 14 to 22, but they did not arrive until today, May 30. Timo had said that in case of late delivery, he would give a credit of Rs 280 and he did give the credit, along with the condition that if I make another purchase of Rs 2000, I can use the credit, this is called reprimanding the th',\n",
       " 'Was very skeptical ordering from this. However, so far, not been disappointed!!!',\n",
       " 'my orders one month late 4 order but why temu is a froud late parsal',\n",
       " 'never ever waste your money on that bad quality and the things they send to u its not used to able to just not waste the money bloody temu',\n",
       " 'whilst purchases are good.......the ads, continual messages are enough to make me want to stop using it. YOUR ADS INTERFERE WITH OTHER APPS.',\n",
       " \"this aap he very bad service's not download and use\",\n",
       " 'amazingi like to play this game.im doing it everyday. how can i claim my gift',\n",
       " 'In other way the price is right,but.. what if, Temu can allowed one item only its either the price is cheap,or expensive,coz if the buyer is fixing their badjet when they place order,they can afford anytime we need to buy,so,the transactions is past..Thanks a lot🌸✌🏻🥰',\n",
       " 'Absolutely useless rubbish! Avoid! Also difficult to deal with - very confusing! Once they get your name they will pester you forever. The great deals they offer are not what they seem.',\n",
       " \"l like the fact if something is wrong, Temu has been able to take of my issues unlike some of the other websites whose name l won't mention as l listen to my clock ticking\",\n",
       " 'bad they gave me 8 beyblade x that was full of lead and now I have lead poisoning and it cost 100 dollars thank te...........mu',\n",
       " 'you people are wicked and heartless, very very wicked and deceptive, fake and fake people, give me back my money, you holding my money. what kind of wickedness is this.',\n",
       " 'very poor... itna ghomaty hai kbnda mentally sick hojta hai .. is Sy bht achii Daraz app hai',\n",
       " 'Repetitive and annoying!']"
      ]
     },
     "execution_count": 9,
     "metadata": {},
     "output_type": "execute_result"
    }
   ],
   "source": [
    "#!pip install textblob       #ilk kurulum text blod kütüphanesini\n",
    "from textblob import TextBlob\n",
    "temu_list_yorumlar_1=[]\n",
    "\n",
    "for comment in temu_yorumlar:\n",
    "    polarity = TextBlob(comment).sentiment.polarity\n",
    "    if polarity < 0:\n",
    "        temu_list_yorumlar_1.append(comment)\n",
    "        #print(\"Olumsuz yorum:\", comment)\n",
    "        \n",
    "temu_list_yorumlar_1"
   ]
  },
  {
   "cell_type": "code",
   "execution_count": 11,
   "id": "3b9fa725-dfd4-4445-985e-f70524014afc",
   "metadata": {},
   "outputs": [],
   "source": [
    "# CSV'ye yaz\n",
    "import csv\n",
    "with open(\"negatif_yorumlar.csv\", \"w\", newline='', encoding='utf-8') as f:\n",
    "    writer = csv.writer(f)\n",
    "    writer.writerow([\"Yorum_id\", \"Yorum\"])  # Başlık/Üstbilgi satırı\n",
    "\n",
    "    for i, temu_list_yorumlar_2 in enumerate(temu_list_yorumlar_1, start=1):\n",
    "        writer.writerow([f\"yorum {i}\", temu_list_yorumlar_2])\n"
   ]
  },
  {
   "cell_type": "code",
   "execution_count": 13,
   "id": "7704db54-9bdc-45c2-89a2-d9f60b6170e4",
   "metadata": {},
   "outputs": [
    {
     "data": {
      "text/plain": [
       "['ordered phone protectors and mobile covers. when i received the parcel, protectors were fully damaged so I requested a return and the rider never came to pick the items even though it was mentioned that the rider will come and pick the order but no one came. so I contacted helpline 3 days before the return last date but they said to wait and the rider will come and pick it up but still no one came and they cancelled my return request and now they want me to pay 1500 for the return. disappointed.',\n",
       " \"Had it installed for some reason but had to uninstall it as their devious and malicious ads that are EVERYWHERE AND CAN'T EVER BE SKIPPED kept forcing the app open and when that happened other apps crashed. I hope Temu goes down and disappear soon, just like other apps like this have before it.\",\n",
       " \"We've been searching for a drone camera on Temu for a long time, but it's not available. That's really disappointing.\",\n",
       " \"Enough of the spinning wheel, it's driving me insane when i open the app. At least add an option to disable it. I'll stick with Ali Express,less headaches than this app and the dreaded spinning wheel\",\n",
       " 'Quality no 1 good product🇧🇩👍',\n",
       " \"generally I like shopping with Temu but I seem to be missing several packages in the past week and I'm kinda disappointed 😥\",\n",
       " \"scam advertising, so many fake rewards, expensive products. Don't buy on temu\",\n",
       " 'sorry no money to pay 😔',\n",
       " 'missing or mishandling my product order I e. I ordered a wrist pressure monitor with a console bag and delivered only an empty console cover bag. instead of ordered violation.',\n",
       " 'appears randomly and does not swipe away! 😕',\n",
       " 'Irritating ads',\n",
       " 'What did Timo say! I had bought three things in this order, one of which arrived on time and two were supposed to arrive from April 28 to May 7, which did not arrive. Then Timo said that they would arrive from May 14 to 22, but they did not arrive until today, May 30. Timo had said that in case of late delivery, he would give a credit of Rs 280 and he did give the credit, along with the condition that if I make another purchase of Rs 2000, I can use the credit, this is called reprimanding the th',\n",
       " 'Was very skeptical ordering from this. However, so far, not been disappointed!!!',\n",
       " 'my orders one month late 4 order but why temu is a froud late parsal',\n",
       " 'never ever waste your money on that bad quality and the things they send to u its not used to able to just not waste the money bloody temu',\n",
       " 'whilst purchases are good.......the ads, continual messages are enough to make me want to stop using it. YOUR ADS INTERFERE WITH OTHER APPS.',\n",
       " \"this aap he very bad service's not download and use\",\n",
       " 'amazingi like to play this game.im doing it everyday. how can i claim my gift',\n",
       " 'In other way the price is right,but.. what if, Temu can allowed one item only its either the price is cheap,or expensive,coz if the buyer is fixing their badjet when they place order,they can afford anytime we need to buy,so,the transactions is past..Thanks a lot🌸✌🏻🥰',\n",
       " 'Absolutely useless rubbish! Avoid! Also difficult to deal with - very confusing! Once they get your name they will pester you forever. The great deals they offer are not what they seem.',\n",
       " \"l like the fact if something is wrong, Temu has been able to take of my issues unlike some of the other websites whose name l won't mention as l listen to my clock ticking\",\n",
       " 'bad they gave me 8 beyblade x that was full of lead and now I have lead poisoning and it cost 100 dollars thank te...........mu',\n",
       " 'you people are wicked and heartless, very very wicked and deceptive, fake and fake people, give me back my money, you holding my money. what kind of wickedness is this.',\n",
       " 'very poor... itna ghomaty hai kbnda mentally sick hojta hai .. is Sy bht achii Daraz app hai',\n",
       " 'Repetitive and annoying!']"
      ]
     },
     "execution_count": 13,
     "metadata": {},
     "output_type": "execute_result"
    }
   ],
   "source": [
    "# CSV dosyanızı yükleyin\n",
    "temu_list_yorumlar =[]\n",
    "df = pd.read_csv(\"negatif_yorumlar.csv\")\n",
    "\n",
    "# Extract the sentence column\n",
    "temu_list_yorumlar = df[\"Yorum\"].astype(str).tolist()\n",
    "temu_list_yorumlar"
   ]
  },
  {
   "cell_type": "markdown",
   "id": "5eca6c22-0cf1-49a1-94ed-9146e17a3b6d",
   "metadata": {},
   "source": [
    "## pre-processing"
   ]
  },
  {
   "cell_type": "code",
   "execution_count": 18,
   "id": "c32b9bd0-e346-47e7-8488-a6fb162dd066",
   "metadata": {},
   "outputs": [],
   "source": [
    "from nltk.tokenize import word_tokenize, sent_tokenize\n",
    "from nltk.corpus import stopwords\n",
    "from nltk.stem import WordNetLemmatizer, PorterStemmer\n",
    "\n",
    "# Stopwords listesini almak\n",
    "stop_words = set(stopwords.words('english'))\n",
    "stop_words_list = list(stop_words)\n",
    "#print(stop_words_list)"
   ]
  },
  {
   "cell_type": "code",
   "execution_count": 20,
   "id": "ea7d151f-6e91-4517-9f7b-0a2ed261258d",
   "metadata": {},
   "outputs": [
    {
     "name": "stdout",
     "output_type": "stream",
     "text": [
      "[['ordered', 'phone', 'protectors', 'mobile', 'covers', 'received', 'parcel', 'protectors', 'fully', 'damaged', 'requested', 'return', 'rider', 'never', 'came', 'pick', 'items', 'even', 'though', 'mentioned', 'rider', 'come', 'pick', 'order', 'one', 'came', 'contacted', 'helpline', 'days', 'return', 'last', 'date', 'said', 'wait', 'rider', 'come', 'pick', 'still', 'one', 'came', 'cancelled', 'return', 'request', 'want', 'pay', 'return', 'disappointed'], ['installed', 'reason', 'uninstall', 'devious', 'malicious', 'ads', 'everywhere', 'ca', 'ever', 'skipped', 'kept', 'forcing', 'app', 'open', 'happened', 'apps', 'crashed', 'hope', 'temu', 'goes', 'disappear', 'soon', 'like', 'apps', 'like'], ['searching', 'drone', 'camera', 'temu', 'long', 'time', 'available', 'really', 'disappointing'], ['enough', 'spinning', 'wheel', 'driving', 'insane', 'open', 'app', 'least', 'add', 'option', 'disable', 'stick', 'ali', 'express', 'less', 'headaches', 'app', 'dreaded', 'spinning', 'wheel'], ['quality', 'good'], ['generally', 'like', 'shopping', 'temu', 'seem', 'missing', 'several', 'packages', 'past', 'week', 'kinda', 'disappointed'], ['scam', 'advertising', 'many', 'fake', 'rewards', 'expensive', 'products', 'buy', 'temu'], ['sorry', 'money', 'pay'], ['missing', 'mishandling', 'product', 'order', 'ordered', 'wrist', 'pressure', 'monitor', 'console', 'bag', 'delivered', 'empty', 'console', 'cover', 'bag', 'instead', 'ordered', 'violation'], ['appears', 'randomly', 'swipe', 'away'], ['irritating', 'ads'], ['timo', 'say', 'bought', 'three', 'things', 'order', 'one', 'arrived', 'time', 'two', 'supposed', 'arrive', 'april', 'may', 'arrive', 'timo', 'said', 'would', 'arrive', 'may', 'arrive', 'today', 'may', 'timo', 'said', 'case', 'late', 'delivery', 'would', 'give', 'credit', 'rs', 'give', 'credit', 'along', 'condition', 'make', 'another', 'purchase', 'rs', 'use', 'credit', 'called', 'reprimanding', 'th'], ['skeptical', 'ordering', 'however', 'far', 'disappointed'], ['orders', 'one', 'month', 'late', 'order', 'temu', 'froud', 'late', 'parsal'], ['never', 'ever', 'waste', 'money', 'bad', 'quality', 'things', 'send', 'u', 'used', 'able', 'waste', 'money', 'bloody', 'temu'], ['whilst', 'purchases', 'good', 'ads', 'continual', 'messages', 'enough', 'make', 'want', 'stop', 'using', 'ads', 'interfere', 'apps'], ['aap', 'bad', 'service', 'download', 'use'], ['amazingi', 'like', 'play', 'everyday', 'claim', 'gift'], ['way', 'price', 'right', 'temu', 'allowed', 'one', 'item', 'either', 'price', 'cheap', 'expensive', 'coz', 'buyer', 'fixing', 'badjet', 'place', 'order', 'afford', 'anytime', 'need', 'buy', 'transactions', 'past', 'thanks'], ['absolutely', 'useless', 'rubbish', 'avoid', 'also', 'difficult', 'deal', 'confusing', 'get', 'name', 'pester', 'forever', 'great', 'deals', 'offer', 'seem'], ['l', 'like', 'fact', 'something', 'wrong', 'temu', 'able', 'take', 'issues', 'unlike', 'websites', 'whose', 'name', 'l', 'wo', 'mention', 'l', 'listen', 'clock', 'ticking'], ['bad', 'gave', 'beyblade', 'x', 'full', 'lead', 'lead', 'poisoning', 'cost', 'dollars', 'thank', 'te', 'mu'], ['people', 'wicked', 'heartless', 'wicked', 'deceptive', 'fake', 'fake', 'people', 'give', 'back', 'money', 'holding', 'money', 'kind', 'wickedness'], ['poor', 'itna', 'ghomaty', 'hai', 'kbnda', 'mentally', 'sick', 'hojta', 'hai', 'sy', 'bht', 'achii', 'daraz', 'app', 'hai'], ['repetitive', 'annoying']]\n"
     ]
    }
   ],
   "source": [
    "# Kelimeleri tokenleştirip, Sadece harf olan kelimeleri al ve stopword'leri çıkar\n",
    "filtered_sentences = []\n",
    "for sentence in temu_list_yorumlar:\n",
    "    tokens = word_tokenize(sentence) #yorumlar kelimelere böl\n",
    "    filtered_tokens = [] #bos lıste olustur\n",
    "    for token in tokens:\n",
    "        if token.isalpha(): # tokenler metın mı dıye kontrol edıyor(numerık ıse ısleme hıc almıyor)\n",
    "            token_lower = token.lower() # kucuk harfe cevırme\n",
    "            if token_lower not in stop_words: # eger kucuk harfe cevrılmıs bu kelımeler stopword lıstesı ıcınden bır kelıme degılse\n",
    "                filtered_tokens.append(token_lower) #filtered_tokens lıstesıne yukarıdakı krıterlerı saglayan kelımelerı ekle\n",
    "    filtered_sentences.append(filtered_tokens) #fıltre edılmıs cumlelerı filtered_sentences lıstesıne ekle\n",
    "print(filtered_sentences[:200]) #ılk 200 yorumlar yazdır."
   ]
  },
  {
   "cell_type": "markdown",
   "id": "1554de72-d594-4ff2-84ae-02e8a86fb2dc",
   "metadata": {},
   "source": [
    "#### Tüm yorumları lemmatize edip CSV dosyası olarak kaydedeceğim"
   ]
  },
  {
   "cell_type": "code",
   "execution_count": 23,
   "id": "3843ec87-22d6-4062-9629-731d311ab521",
   "metadata": {},
   "outputs": [],
   "source": [
    "lemmatizer = WordNetLemmatizer() # Lemmatizeri başlat\n",
    "tokenized_corpus_lemmatized = [] #lemma edılmıs cumlelerı saklamak ıcın bos bır lıste olustur\n",
    "for i, filtered_tokens in enumerate( filtered_sentences, start=1):\n",
    "    lemmatized_tokens = [] #lemma edılmıs tokenlerı(kelıme) saklamak ıcın bos bır lıste olustur\n",
    "    for token in filtered_tokens:\n",
    "        lemma = lemmatizer.lemmatize(token) #Tokenlerı tek tek lemma etme␣ıslemı\n",
    "        lemmatized_tokens.append(lemma) #Lemma edılmıs tokenlerı lemmatized_tokens lıstesıne ekle\n",
    "    tokenized_corpus_lemmatized.append(lemmatized_tokens) #Lemma edılmıs yorumlar tokenized_corpus_lemmatized lıstesıne ekle\n",
    "#print(tokenized_corpus_lemmatized[:300])"
   ]
  },
  {
   "cell_type": "code",
   "execution_count": 25,
   "id": "f7a0438f-4e90-42e6-b388-2ca7ea1d84aa",
   "metadata": {},
   "outputs": [],
   "source": [
    "import csv\n",
    "with open(\"lemmatized_temu_yorumlar.csv\", mode=\"w\", newline=\"\", encoding=\"utf-8\") as file:\n",
    "    writer = csv.writer(file)\n",
    "    writer.writerow([\"Lemmatized yorum\"]) # başlık\n",
    "    # Her yorum bir satır olarak yaz\n",
    "    for i, tokens in enumerate(tokenized_corpus_lemmatized, start=1):\n",
    "        writer.writerow([' '.join(tokens)])"
   ]
  },
  {
   "cell_type": "markdown",
   "id": "e6225c9d-b104-408f-9fe6-aefa963e8b47",
   "metadata": {},
   "source": [
    "#### Tüm yorumları Stemle edip CSV dosyası olarak kaydedeceğim"
   ]
  },
  {
   "cell_type": "code",
   "execution_count": 28,
   "id": "edddee2a-3be2-4399-b61e-d0c8eeba6c4e",
   "metadata": {},
   "outputs": [
    {
     "name": "stdout",
     "output_type": "stream",
     "text": [
      "[['order', 'phone', 'protector', 'mobil', 'cover', 'receiv', 'parcel', 'protector', 'fulli', 'damag', 'request', 'return', 'rider', 'never', 'came', 'pick', 'item', 'even', 'though', 'mention', 'rider', 'come', 'pick', 'order', 'one', 'came', 'contact', 'helplin', 'day', 'return', 'last', 'date', 'said', 'wait', 'rider', 'come', 'pick', 'still', 'one', 'came', 'cancel', 'return', 'request', 'want', 'pay', 'return', 'disappoint'], ['instal', 'reason', 'uninstal', 'deviou', 'malici', 'ad', 'everywher', 'ca', 'ever', 'skip', 'kept', 'forc', 'app', 'open', 'happen', 'app', 'crash', 'hope', 'temu', 'goe', 'disappear', 'soon', 'like', 'app', 'like'], ['search', 'drone', 'camera', 'temu', 'long', 'time', 'avail', 'realli', 'disappoint'], ['enough', 'spin', 'wheel', 'drive', 'insan', 'open', 'app', 'least', 'add', 'option', 'disabl', 'stick', 'ali', 'express', 'less', 'headach', 'app', 'dread', 'spin', 'wheel'], ['qualiti', 'good'], ['gener', 'like', 'shop', 'temu', 'seem', 'miss', 'sever', 'packag', 'past', 'week', 'kinda', 'disappoint'], ['scam', 'advertis', 'mani', 'fake', 'reward', 'expens', 'product', 'buy', 'temu'], ['sorri', 'money', 'pay'], ['miss', 'mishandl', 'product', 'order', 'order', 'wrist', 'pressur', 'monitor', 'consol', 'bag', 'deliv', 'empti', 'consol', 'cover', 'bag', 'instead', 'order', 'violat'], ['appear', 'randomli', 'swipe', 'away'], ['irrit', 'ad'], ['timo', 'say', 'bought', 'three', 'thing', 'order', 'one', 'arriv', 'time', 'two', 'suppos', 'arriv', 'april', 'may', 'arriv', 'timo', 'said', 'would', 'arriv', 'may', 'arriv', 'today', 'may', 'timo', 'said', 'case', 'late', 'deliveri', 'would', 'give', 'credit', 'rs', 'give', 'credit', 'along', 'condit', 'make', 'anoth', 'purchas', 'rs', 'use', 'credit', 'call', 'reprimand', 'th'], ['skeptic', 'order', 'howev', 'far', 'disappoint'], ['order', 'one', 'month', 'late', 'order', 'temu', 'froud', 'late', 'parsal'], ['never', 'ever', 'wast', 'money', 'bad', 'qualiti', 'thing', 'send', 'u', 'use', 'abl', 'wast', 'money', 'bloodi', 'temu'], ['whilst', 'purchas', 'good', 'ad', 'continu', 'messag', 'enough', 'make', 'want', 'stop', 'use', 'ad', 'interfer', 'app'], ['aap', 'bad', 'servic', 'download', 'use'], ['amazingi', 'like', 'play', 'everyday', 'claim', 'gift'], ['way', 'price', 'right', 'temu', 'allow', 'one', 'item', 'either', 'price', 'cheap', 'expens', 'coz', 'buyer', 'fix', 'badjet', 'place', 'order', 'afford', 'anytim', 'need', 'buy', 'transact', 'past', 'thank'], ['absolut', 'useless', 'rubbish', 'avoid', 'also', 'difficult', 'deal', 'confus', 'get', 'name', 'pester', 'forev', 'great', 'deal', 'offer', 'seem'], ['l', 'like', 'fact', 'someth', 'wrong', 'temu', 'abl', 'take', 'issu', 'unlik', 'websit', 'whose', 'name', 'l', 'wo', 'mention', 'l', 'listen', 'clock', 'tick'], ['bad', 'gave', 'beyblad', 'x', 'full', 'lead', 'lead', 'poison', 'cost', 'dollar', 'thank', 'te', 'mu'], ['peopl', 'wick', 'heartless', 'wick', 'decept', 'fake', 'fake', 'peopl', 'give', 'back', 'money', 'hold', 'money', 'kind', 'wicked'], ['poor', 'itna', 'ghomati', 'hai', 'kbnda', 'mental', 'sick', 'hojta', 'hai', 'sy', 'bht', 'achii', 'daraz', 'app', 'hai'], ['repetit', 'annoy']]\n"
     ]
    }
   ],
   "source": [
    "stemmer = PorterStemmer() # stemmeri başlat\n",
    "tokenized_corpus_stemmed = [] #Stem edılmıs yorum saklamak ıcın bos bır lıste olustur\n",
    "for filtered_tokens in filtered_sentences:\n",
    "    stemmed_tokens = [] #Stem edılmıs tokenlerı(kelıme) saklamak ıcın bos bır lıste olustur\n",
    "    for token in filtered_tokens:\n",
    "        stem = stemmer.stem(token) #Tokenlerı tek tek Stem etme ıslemı\n",
    "        stemmed_tokens.append(stem) #Stem edılmıs tokenlerı stemmed_tokens lıstesıne ekle\n",
    "    tokenized_corpus_stemmed.append(stemmed_tokens) #Stem edılmıs yorum tokenized_corpus_stemmed lıstesıne ekle\n",
    "print(tokenized_corpus_stemmed[:200])"
   ]
  },
  {
   "cell_type": "code",
   "execution_count": 30,
   "id": "ebba5d3d-a2c3-4dce-b448-3258110d489e",
   "metadata": {},
   "outputs": [],
   "source": [
    "with open(\"stemmed_temu_yorumlar.csv\", mode=\"w\", newline=\"\", encoding=\"utf-8\") as file:\n",
    "    writer = csv.writer(file)\n",
    "    writer.writerow([\"stemmed yorum\"]) # başlık\n",
    "    # Her yorum bir satır olarak yaz\n",
    "    for tokens in tokenized_corpus_stemmed:\n",
    "        writer.writerow([' '.join(tokens)])"
   ]
  },
  {
   "cell_type": "markdown",
   "id": "eb68a8f8-f3bd-40b1-99a7-5a83f316b669",
   "metadata": {},
   "source": [
    "### Zipf yasasi"
   ]
  },
  {
   "cell_type": "code",
   "execution_count": 33,
   "id": "e2df14cf-9c24-4ac5-acc0-b160f556124e",
   "metadata": {},
   "outputs": [],
   "source": [
    "import matplotlib.pyplot as plt\n",
    "from nltk.corpus import gutenberg\n",
    "\n",
    "# Tokenize kelimelere (converting Tokenize list into a list text of words)\n",
    "word_list = []\n",
    "for comment in temu_list_yorumlar:\n",
    "    words = comment.split()  # or use nltk.word_tokenize for better tokenization\n",
    "    word_list.extend(words)\n",
    "\n",
    "# print(word_list[:1000])"
   ]
  },
  {
   "cell_type": "code",
   "execution_count": 35,
   "id": "5e14e34f-f583-41c7-ba8f-96cd6c065580",
   "metadata": {},
   "outputs": [
    {
     "data": {
      "image/png": "[encoded data removed]",
      "text/plain": [
       "<Figure size 800x600 with 1 Axes>"
      ]
     },
     "metadata": {},
     "output_type": "display_data"
    }
   ],
   "source": [
    "# Kelime frekanslarını hesapla\n",
    "word_freq = {} # kutuphane kullanmadan\n",
    "for word in word_list:\n",
    "    word_freq[word] = word_freq.get(word, 0) + 1\n",
    "# Frekansları azalan şekilde sırala\n",
    "sorted_freqs = sorted(word_freq.values(), reverse=True)\n",
    "# Rank (sıralama) oluştur\n",
    "ranks = np.arange(1, len(sorted_freqs) + 1)\n",
    "# Log-log grafiği çiz\n",
    "plt.figure(figsize=(8, 6))\n",
    "plt.loglog(ranks, sorted_freqs, marker=\"o\", linestyle=\"none\", markersize=4, alpha=0.7, color=\"b\")\n",
    "# Grafik etiketleri\n",
    "plt.xlabel(\"Kelime Sırası (log)\")\n",
    "plt.ylabel(\"Frekans (log)\")\n",
    "plt.title(\"Temu Yorumlar İçin Zipf Yasası\")\n",
    "plt.grid(True, which=\"both\", linestyle=\"--\", linewidth=0.5)\n",
    "plt.show()"
   ]
  },
  {
   "cell_type": "code",
   "execution_count": 37,
   "id": "aeed8e50-b66b-4471-a983-60c5499f2036",
   "metadata": {},
   "outputs": [
    {
     "name": "stdout",
     "output_type": "stream",
     "text": [
      "Toplam kelime (tokens): 685\n",
      "Benzersiz kelime (vocab size): 385\n"
     ]
    }
   ],
   "source": [
    "print(\"Toplam kelime (tokens):\", len(word_list)) #Toplam kelime\n",
    "print(\"Benzersiz kelime (vocab size):\", len(set(word_list))) #Benzersiz kelime"
   ]
  },
  {
   "cell_type": "markdown",
   "id": "f2b78bdd-4a18-45bf-b5db-7e681597ad7b",
   "metadata": {},
   "source": [
    "### A. TF-IDF Vektörleştirme\n",
    "##### Lematize edilmiş veri kümesinin TF-IDF vektörleştirme işlemi."
   ]
  },
  {
   "cell_type": "code",
   "execution_count": 40,
   "id": "38c33aca-2686-4996-b333-89c8c3974203",
   "metadata": {},
   "outputs": [
    {
     "data": {
      "text/plain": [
       "['ordered phone protector mobile cover received parcel protector fully damaged requested return rider never came pick item even though mentioned rider come pick order one came contacted helpline day return last date said wait rider come pick still one came cancelled return request want pay return disappointed',\n",
       " 'installed reason uninstall devious malicious ad everywhere ca ever skipped kept forcing app open happened apps crashed hope temu go disappear soon like apps like',\n",
       " 'searching drone camera temu long time available really disappointing',\n",
       " 'enough spinning wheel driving insane open app least add option disable stick ali express less headache app dreaded spinning wheel',\n",
       " 'quality good',\n",
       " 'generally like shopping temu seem missing several package past week kinda disappointed',\n",
       " 'scam advertising many fake reward expensive product buy temu',\n",
       " 'sorry money pay',\n",
       " 'missing mishandling product order ordered wrist pressure monitor console bag delivered empty console cover bag instead ordered violation',\n",
       " 'appears randomly swipe away',\n",
       " 'irritating ad',\n",
       " 'timo say bought three thing order one arrived time two supposed arrive april may arrive timo said would arrive may arrive today may timo said case late delivery would give credit r give credit along condition make another purchase r use credit called reprimanding th',\n",
       " 'skeptical ordering however far disappointed',\n",
       " 'order one month late order temu froud late parsal',\n",
       " 'never ever waste money bad quality thing send u used able waste money bloody temu',\n",
       " 'whilst purchase good ad continual message enough make want stop using ad interfere apps',\n",
       " 'aap bad service download use',\n",
       " 'amazingi like play everyday claim gift',\n",
       " 'way price right temu allowed one item either price cheap expensive coz buyer fixing badjet place order afford anytime need buy transaction past thanks',\n",
       " 'absolutely useless rubbish avoid also difficult deal confusing get name pester forever great deal offer seem',\n",
       " 'l like fact something wrong temu able take issue unlike website whose name l wo mention l listen clock ticking',\n",
       " 'bad gave beyblade x full lead lead poisoning cost dollar thank te mu',\n",
       " 'people wicked heartless wicked deceptive fake fake people give back money holding money kind wickedness',\n",
       " 'poor itna ghomaty hai kbnda mentally sick hojta hai sy bht achii daraz app hai',\n",
       " 'repetitive annoying']"
      ]
     },
     "execution_count": 40,
     "metadata": {},
     "output_type": "execute_result"
    }
   ],
   "source": [
    "from sklearn.feature_extraction.text import TfidfVectorizer\n",
    "#!pip install scikit-learn\n",
    "\n",
    "# Ön işlenmiş token listelerini tekrar metne çeviriyoruz\n",
    "lemmatized_texts = [' '.join(tokens) for tokens in tokenized_corpus_lemmatized]\n",
    "lemmatized_texts[:100]"
   ]
  },
  {
   "cell_type": "code",
   "execution_count": 42,
   "id": "79ce3a36-2058-4aca-b1e2-2376ebe0e10a",
   "metadata": {},
   "outputs": [
    {
     "name": "stdout",
     "output_type": "stream",
     "text": [
      "   aap  able  absolutely  achii        ad       add  advertising  afford  \\\n",
      "0  0.0   0.0         0.0    0.0  0.000000  0.000000          0.0     0.0   \n",
      "1  0.0   0.0         0.0    0.0  0.162574  0.000000          0.0     0.0   \n",
      "2  0.0   0.0         0.0    0.0  0.000000  0.000000          0.0     0.0   \n",
      "3  0.0   0.0         0.0    0.0  0.000000  0.203419          0.0     0.0   \n",
      "4  0.0   0.0         0.0    0.0  0.000000  0.000000          0.0     0.0   \n",
      "\n",
      "        ali  allowed  ...  week     wheel  whilst  whose  wicked  wickedness  \\\n",
      "0  0.000000      0.0  ...   0.0  0.000000     0.0    0.0     0.0         0.0   \n",
      "1  0.000000      0.0  ...   0.0  0.000000     0.0    0.0     0.0         0.0   \n",
      "2  0.000000      0.0  ...   0.0  0.000000     0.0    0.0     0.0         0.0   \n",
      "3  0.203419      0.0  ...   0.0  0.406838     0.0    0.0     0.0         0.0   \n",
      "4  0.000000      0.0  ...   0.0  0.000000     0.0    0.0     0.0         0.0   \n",
      "\n",
      "    wo  would  wrist  wrong  \n",
      "0  0.0    0.0    0.0    0.0  \n",
      "1  0.0    0.0    0.0    0.0  \n",
      "2  0.0    0.0    0.0    0.0  \n",
      "3  0.0    0.0    0.0    0.0  \n",
      "4  0.0    0.0    0.0    0.0  \n",
      "\n",
      "[5 rows x 246 columns]\n"
     ]
    }
   ],
   "source": [
    "# TF-IDF vektörizerı başlatıyoruz\n",
    "vectorizer = TfidfVectorizer()\n",
    "# TF-IDF matrisini oluşturuyoruz\n",
    "#terim frekansları, belge frekanslarıni hesplar\n",
    "#TF-IDF vektörlerine dönüştürür\n",
    "tfidf_matrix = vectorizer.fit_transform(lemmatized_texts)\n",
    "## Kelimeleri alalım\n",
    "#F-IDF vektörleştirme işleminde kullanılan tüm kelimelerin essiz bir listesini döndürur\n",
    "feature_names = vectorizer.get_feature_names_out()\n",
    "# TF-IDF matrisini pandas DataFrame'e çevir-gorunurluk acisindan- calismasi kolay\n",
    "tfidf_df = pd.DataFrame(tfidf_matrix.toarray(), columns=feature_names)\n",
    "# İlk birkaç satırı gösterelim-ilk 5 cümle\n",
    "print(tfidf_df.head())"
   ]
  },
  {
   "cell_type": "code",
   "execution_count": 44,
   "id": "1a1915ed-1a66-4ed3-b140-d78c15edb0a6",
   "metadata": {},
   "outputs": [
    {
     "name": "stdout",
     "output_type": "stream",
     "text": [
      "İkinci yorum en yüksek TF-IDF skoruna sahip 20 kelime:\n",
      "disappointing    0.350939\n",
      "long             0.350939\n",
      "available        0.350939\n",
      "camera           0.350939\n",
      "searching        0.350939\n",
      "drone            0.350939\n",
      "really           0.350939\n",
      "time             0.311024\n",
      "temu             0.202875\n",
      "phone            0.000000\n",
      "play             0.000000\n",
      "place            0.000000\n",
      "pick             0.000000\n",
      "aap              0.000000\n",
      "pester           0.000000\n",
      "poor             0.000000\n",
      "people           0.000000\n",
      "pay              0.000000\n",
      "poisoning        0.000000\n",
      "product          0.000000\n",
      "Name: 2, dtype: float64\n"
     ]
    }
   ],
   "source": [
    "# İkinci cümle için TF-IDF skorlarını al\n",
    "first_comment_vector = tfidf_df.iloc[2]\n",
    "# Skorlara göre sırala (yüksekten düşüğe)\n",
    "top_20_words = first_comment_vector.sort_values(ascending=False).head(20)\n",
    "# Sonucu yazdır\n",
    "print(\"İkinci yorum en yüksek TF-IDF skoruna sahip 20 kelime:\")\n",
    "print(top_20_words)"
   ]
  },
  {
   "cell_type": "code",
   "execution_count": 46,
   "id": "2f5f33c7-37b5-4686-9333-38f827798d18",
   "metadata": {},
   "outputs": [
    {
     "name": "stdout",
     "output_type": "stream",
     "text": [
      "bad: 1.0000\n",
      "aap: 0.7831\n",
      "service: 0.7831\n",
      "download: 0.7831\n",
      "use: 0.7610\n",
      "dollar: 0.4464\n"
     ]
    }
   ],
   "source": [
    "from sklearn.metrics.pairwise import cosine_similarity\n",
    "\n",
    "# bad kelimesinin vektörünü alalım\n",
    "fake_index = feature_names.tolist().index('bad') # 'bad' kelimesinin indeksini bul\n",
    "# bad kelimesinin TF-IDF vektörünü alıyoruz ve 2D formatta yapıyoruz\n",
    "fake_vector = tfidf_matrix[:, fake_index].toarray()\n",
    "# Tüm kelimelerin TF-IDF vektörlerini alıyoruz\n",
    "tfidf_vectors = tfidf_matrix.toarray()\n",
    "# Cosine similarity hesaplayalım\n",
    "similarities = cosine_similarity(fake_vector.T, tfidf_vectors.T)\n",
    "# Benzerlikleri sıralayalım ve en yüksek 5 kelimeyi seçelim\n",
    "similarities = similarities.flatten()\n",
    "top_5_indices = similarities.argsort()[-6:][::-1] # 6. en büyükten başlıyoruz çünkü kendisi de dahil\n",
    "# Sonuçları yazdıralım\n",
    "for index in top_5_indices:\n",
    "    print(f\"{feature_names[index]}: {similarities[index]:.4f}\")"
   ]
  },
  {
   "cell_type": "code",
   "execution_count": 48,
   "id": "348f52d8-f8ea-456e-817f-78e2eabca054",
   "metadata": {},
   "outputs": [],
   "source": [
    "# lemmatize edilmiş, temizlenmiş TF-IDF vektörleştirilmiş tema yorumlarını bir csv dosyasına kaydet\n",
    "\n",
    "# Sonuçları listele\n",
    "results = [(feature_names[i], round(similarities[i], 4)) for i in top_5_indices]\n",
    "\n",
    "with open(\"tfidf_lemmatized.csv\", mode=\"w\", newline=\"\", encoding=\"utf-8\") as file:\n",
    "    writer = csv.writer(file)\n",
    "    writer.writerow(['kelime', 'metin'])\n",
    "    writer.writerows(results)"
   ]
  },
  {
   "cell_type": "markdown",
   "id": "731e5163-a3ea-414a-9b1d-748b5aff1930",
   "metadata": {},
   "source": [
    "#### stem edilmiş veri kümesinin TF-IDF vektörleştirme işlemi."
   ]
  },
  {
   "cell_type": "code",
   "execution_count": 51,
   "id": "865804d6-e75a-41aa-93dd-e8c1e01f35f8",
   "metadata": {},
   "outputs": [
    {
     "data": {
      "text/plain": [
       "['order phone protector mobil cover receiv parcel protector fulli damag request return rider never came pick item even though mention rider come pick order one came contact helplin day return last date said wait rider come pick still one came cancel return request want pay return disappoint',\n",
       " 'instal reason uninstal deviou malici ad everywher ca ever skip kept forc app open happen app crash hope temu goe disappear soon like app like',\n",
       " 'search drone camera temu long time avail realli disappoint',\n",
       " 'enough spin wheel drive insan open app least add option disabl stick ali express less headach app dread spin wheel',\n",
       " 'qualiti good',\n",
       " 'gener like shop temu seem miss sever packag past week kinda disappoint',\n",
       " 'scam advertis mani fake reward expens product buy temu',\n",
       " 'sorri money pay',\n",
       " 'miss mishandl product order order wrist pressur monitor consol bag deliv empti consol cover bag instead order violat',\n",
       " 'appear randomli swipe away',\n",
       " 'irrit ad',\n",
       " 'timo say bought three thing order one arriv time two suppos arriv april may arriv timo said would arriv may arriv today may timo said case late deliveri would give credit rs give credit along condit make anoth purchas rs use credit call reprimand th',\n",
       " 'skeptic order howev far disappoint',\n",
       " 'order one month late order temu froud late parsal',\n",
       " 'never ever wast money bad qualiti thing send u use abl wast money bloodi temu',\n",
       " 'whilst purchas good ad continu messag enough make want stop use ad interfer app',\n",
       " 'aap bad servic download use',\n",
       " 'amazingi like play everyday claim gift',\n",
       " 'way price right temu allow one item either price cheap expens coz buyer fix badjet place order afford anytim need buy transact past thank',\n",
       " 'absolut useless rubbish avoid also difficult deal confus get name pester forev great deal offer seem',\n",
       " 'l like fact someth wrong temu abl take issu unlik websit whose name l wo mention l listen clock tick',\n",
       " 'bad gave beyblad x full lead lead poison cost dollar thank te mu',\n",
       " 'peopl wick heartless wick decept fake fake peopl give back money hold money kind wicked',\n",
       " 'poor itna ghomati hai kbnda mental sick hojta hai sy bht achii daraz app hai',\n",
       " 'repetit annoy']"
      ]
     },
     "execution_count": 51,
     "metadata": {},
     "output_type": "execute_result"
    }
   ],
   "source": [
    "# Ön işlenmiş token listelerini tekrar metne çeviriyoruz\n",
    "stemmed_texts = [' '.join(tokens) for tokens in tokenized_corpus_stemmed]\n",
    "stemmed_texts[:100]"
   ]
  },
  {
   "cell_type": "code",
   "execution_count": 53,
   "id": "b5593bfd-c035-45d3-990b-378d2a37ea7b",
   "metadata": {},
   "outputs": [
    {
     "name": "stdout",
     "output_type": "stream",
     "text": [
      "   aap  abl  absolut  achii        ad       add  advertis  afford       ali  \\\n",
      "0  0.0  0.0      0.0    0.0  0.000000  0.000000       0.0     0.0  0.000000   \n",
      "1  0.0  0.0      0.0    0.0  0.158811  0.000000       0.0     0.0  0.000000   \n",
      "2  0.0  0.0      0.0    0.0  0.000000  0.000000       0.0     0.0  0.000000   \n",
      "3  0.0  0.0      0.0    0.0  0.000000  0.205071       0.0     0.0  0.205071   \n",
      "4  0.0  0.0      0.0    0.0  0.000000  0.000000       0.0     0.0  0.000000   \n",
      "\n",
      "   allow  ...  week     wheel  whilst  whose  wick  wicked   wo  would  wrist  \\\n",
      "0    0.0  ...   0.0  0.000000     0.0    0.0   0.0     0.0  0.0    0.0    0.0   \n",
      "1    0.0  ...   0.0  0.000000     0.0    0.0   0.0     0.0  0.0    0.0    0.0   \n",
      "2    0.0  ...   0.0  0.000000     0.0    0.0   0.0     0.0  0.0    0.0    0.0   \n",
      "3    0.0  ...   0.0  0.410141     0.0    0.0   0.0     0.0  0.0    0.0    0.0   \n",
      "4    0.0  ...   0.0  0.000000     0.0    0.0   0.0     0.0  0.0    0.0    0.0   \n",
      "\n",
      "   wrong  \n",
      "0    0.0  \n",
      "1    0.0  \n",
      "2    0.0  \n",
      "3    0.0  \n",
      "4    0.0  \n",
      "\n",
      "[5 rows x 237 columns]\n"
     ]
    }
   ],
   "source": [
    "# TF-IDF vektörizerı başlatıyoruz\n",
    "vectorizer = TfidfVectorizer()\n",
    "# TF-IDF matrisini oluşturuyoruz\n",
    "#terim frekansları, belge frekanslarıni hesplar\n",
    "#TF-IDF vektörlerine dönüştürür\n",
    "tfidf_matrix = vectorizer.fit_transform(stemmed_texts)\n",
    "## Kelimeleri alalım\n",
    "#F-IDF vektörleştirme işleminde kullanılan tüm kelimelerin essiz bir listesini döndürur\n",
    "feature_names = vectorizer.get_feature_names_out()\n",
    "# TF-IDF matrisini pandas DataFrame'e çevir-gorunurluk acisindan- calismasi kolay\n",
    "tfidf_df = pd.DataFrame(tfidf_matrix.toarray(), columns=feature_names)\n",
    "# İlk birkaç satırı gösterelim-ilk 5 cümle\n",
    "print(tfidf_df.head())"
   ]
  },
  {
   "cell_type": "code",
   "execution_count": 55,
   "id": "04003ce0-85a5-4f29-b5e9-5273258655ad",
   "metadata": {},
   "outputs": [
    {
     "name": "stdout",
     "output_type": "stream",
     "text": [
      "İkinci yorum en yüksek TF-IDF skoruna sahip 9 kelime:\n",
      "app          0.439413\n",
      "like         0.292942\n",
      "instal       0.197142\n",
      "everywher    0.197142\n",
      "hope         0.197142\n",
      "forc         0.197142\n",
      "uninstal     0.197142\n",
      "skip         0.197142\n",
      "happen       0.197142\n",
      "Name: 1, dtype: float64\n"
     ]
    }
   ],
   "source": [
    "# İkinci yorum için TF-IDF skorlarını al\n",
    "first_yorum_vector = tfidf_df.iloc[1]\n",
    "# Skorlara göre sırala (yüksekten düşüğe)\n",
    "top_9_words = first_yorum_vector.sort_values(ascending=False).head(9)\n",
    "# Sonucu yazdır\n",
    "print(\"İkinci yorum en yüksek TF-IDF skoruna sahip 9 kelime:\")\n",
    "print(top_9_words)"
   ]
  },
  {
   "cell_type": "code",
   "execution_count": 57,
   "id": "5e30fc9f-010c-46da-b0ad-1b4dba2c5095",
   "metadata": {},
   "outputs": [
    {
     "name": "stdout",
     "output_type": "stream",
     "text": [
      "froud: 1.0000\n",
      "parsal: 1.0000\n",
      "month: 1.0000\n",
      "late: 0.9877\n",
      "one: 0.7244\n",
      "order: 0.6132\n"
     ]
    }
   ],
   "source": [
    "# froud kelimesinin vektörünü alalım\n",
    "fake_index = feature_names.tolist().index('froud') # 'fake' kelimesinin indeksini bul\n",
    "# froud kelimesinin TF-IDF vektörünü alıyoruz ve 2D formatta yapıyoruz\n",
    "fake_vector = tfidf_matrix[:, fake_index].toarray()\n",
    "# Tüm kelimelerin TF-IDF vektörlerini alıyoruz\n",
    "tfidf_vectors = tfidf_matrix.toarray()\n",
    "# Cosine similarity hesaplayalım\n",
    "similarities = cosine_similarity(fake_vector.T, tfidf_vectors.T)\n",
    "# Benzerlikleri sıralayalım ve en yüksek 5 kelimeyi seçelim\n",
    "similarities = similarities.flatten()\n",
    "top_5_indices = similarities.argsort()[-6:][::-1] # 6. en büyükten başlıyoruz çünkü kendisi de dahil\n",
    "# Sonuçları yazdıralım\n",
    "for index in top_5_indices:\n",
    "    print(f\"{feature_names[index]}: {similarities[index]:.4f}\")"
   ]
  },
  {
   "cell_type": "code",
   "execution_count": 59,
   "id": "287e87b6-26a2-4d34-a3ff-d888addd21f8",
   "metadata": {},
   "outputs": [],
   "source": [
    "# steme edilmiş, temizlenmiş TF-IDF vektörleştirilmiş tema yorumlarını bir csv dosyasına kaydet\n",
    "\n",
    "# Sonuçları listele\n",
    "results = [(feature_names[i], round(similarities[i], 4)) for i in top_5_indices]\n",
    "\n",
    "with open(\"tfidf_stemmed.csv\", mode=\"w\", newline=\"\", encoding=\"utf-8\") as file:\n",
    "    writer = csv.writer(file)\n",
    "    writer.writerow(['kelime', 'benzerlik'])\n",
    "    writer.writerows(results)"
   ]
  },
  {
   "cell_type": "markdown",
   "id": "28aedb4e-4810-47af-b9e4-b001607ef4fb",
   "metadata": {},
   "source": [
    "### En çok tekrar eden şikayet başlıkları çıkarılır."
   ]
  },
  {
   "cell_type": "code",
   "execution_count": 64,
   "id": "7c6080a8-3929-4f50-9a23-915dcf8377e5",
   "metadata": {},
   "outputs": [
    {
     "name": "stdout",
     "output_type": "stream",
     "text": [
      "Most common complaint topics:\n",
      "temu: 8\n",
      "order: 6\n",
      "one: 5\n",
      "like: 5\n",
      "money: 5\n",
      "return: 4\n",
      "ad: 4\n",
      "app: 4\n",
      "arrive: 4\n",
      "ordered: 3\n"
     ]
    }
   ],
   "source": [
    "from collections import Counter\n",
    "import itertools\n",
    "# Tüm belirteçleştirilmiş kelimeleri düzleştir (Flatten all tokenized words)\n",
    "all_words = list(itertools.chain.from_iterable(tokenized_corpus_lemmatized))\n",
    "\n",
    "# Count word frequency\n",
    "word_freq = Counter(all_words)\n",
    "\n",
    "# Get the most common complaint topics\n",
    "common_complaints = word_freq.most_common(10)\n",
    "print(\"Most common complaint topics:\")\n",
    "for word, freq in common_complaints:\n",
    "    print(f\"{word}: {freq}\")"
   ]
  },
  {
   "cell_type": "markdown",
   "id": "6b8f52f0-d845-4387-84cf-ce8ab0079073",
   "metadata": {},
   "source": [
    "### B. Word2Vec Vektörleştirme"
   ]
  },
  {
   "cell_type": "code",
   "execution_count": 67,
   "id": "b8272328-ad9b-48c0-b2cf-e78e50e3b8c4",
   "metadata": {},
   "outputs": [],
   "source": [
    "import gensim\n",
    "from gensim.models import Word2Vec"
   ]
  },
  {
   "cell_type": "code",
   "execution_count": 85,
   "id": "43f28976-5939-4535-99eb-03f411fdd757",
   "metadata": {},
   "outputs": [
    {
     "name": "stdout",
     "output_type": "stream",
     "text": [
      "word2vec_lemmatized_cbow_window2_dim100 model saved!\n",
      "word2vec_lemmatized_skipgram_window2_dim100 model saved!\n",
      "word2vec_lemmatized_cbow_window4_dim100 model saved!\n",
      "word2vec_lemmatized_skipgram_window4_dim100 model saved!\n",
      "word2vec_lemmatized_cbow_window2_dim300 model saved!\n",
      "word2vec_lemmatized_skipgram_window2_dim300 model saved!\n",
      "word2vec_lemmatized_cbow_window4_dim300 model saved!\n",
      "word2vec_lemmatized_skipgram_window4_dim300 model saved!\n",
      "stemmed_model_cbow_window2_dim100 model saved!\n",
      "stemmed_model_skipgram_window2_dim100 model saved!\n",
      "stemmed_model_cbow_window4_dim100 model saved!\n",
      "stemmed_model_skipgram_window4_dim100 model saved!\n",
      "stemmed_model_cbow_window2_dim300 model saved!\n",
      "stemmed_model_skipgram_window2_dim300 model saved!\n",
      "stemmed_model_cbow_window4_dim300 model saved!\n",
      "stemmed_model_skipgram_window4_dim300 model saved!\n"
     ]
    }
   ],
   "source": [
    "from gensim.models import KeyedVectors\n",
    "#tokenized_corpus_lemmatized\n",
    "#tokenized_corpus_stemmed\n",
    "\n",
    "# Word2Vec modeli eğitmek için parametreler\n",
    "parameters = [ {'model_type': 'cbow', 'window': 2, 'vector_size': 100},\n",
    " {'model_type': 'skipgram', 'window': 2, 'vector_size': 100},\n",
    " {'model_type': 'cbow', 'window': 4, 'vector_size': 100},\n",
    " {'model_type': 'skipgram', 'window': 4, 'vector_size': 100},\n",
    " {'model_type': 'cbow', 'window': 2, 'vector_size': 300},\n",
    " {'model_type': 'skipgram', 'window': 2, 'vector_size': 300},\n",
    " {'model_type': 'cbow', 'window': 4, 'vector_size': 300},\n",
    " {'model_type': 'skipgram', 'window': 4, 'vector_size': 300}]\n",
    "\n",
    "# Fonksiyon ile Word2Vec modeli eğitme ve kaydetme\n",
    "def train_and_save_model(corpus, params, model_name):\n",
    "    model = Word2Vec(corpus, vector_size=params['vector_size'], window=params['window'], min_count=1, sg=1 if params['model_type'] == 'skipgram' else 0)\n",
    "    model.save(f\"{model_name}_{params['model_type']}_window{params['window']}_dim{params['vector_size']}.model\")\n",
    "    print(f\"{model_name}_{params['model_type']}_window{params['window']}_dim{params['vector_size']} model saved!\")\n",
    "# Lemmatize edilmiş corpus ile modelleri eğitme ve kaydetme\n",
    "for param in parameters:\n",
    "    train_and_save_model(tokenized_corpus_lemmatized, param, \"word2vec_lemmatized\")\n",
    "# Stemlenmiş corpus ile modelleri eğitme ve kaydetme\n",
    "for param in parameters:\n",
    "    train_and_save_model(tokenized_corpus_stemmed, param, \"stemmed_model\")\n"
   ]
  },
  {
   "cell_type": "code",
   "execution_count": 87,
   "id": "19d9a743-69fc-4221-bf26-459cb45b2740",
   "metadata": {},
   "outputs": [
    {
     "name": "stdout",
     "output_type": "stream",
     "text": [
      "\n",
      "Lemmatized CBOW Window 2 Dim 100 Modeli - 'bad' ile En Benzer 3 Kelime:\n",
      "Kelime: popping, Benzerlik Skoru: 0.21889738738536835\n",
      "Kelime: ad, Benzerlik Skoru: 0.2164149433374405\n",
      "Kelime: lazada, Benzerlik Skoru: 0.20447270572185516\n",
      "\n",
      "Stemmed Skipgram Window 4 Dim 100 Modeli - 'bad' ile En Benzer 3 Kelime:\n",
      "Kelime: mani, Benzerlik Skoru: 0.3253897428512573\n",
      "Kelime: item, Benzerlik Skoru: 0.3128632605075836\n",
      "Kelime: everyday, Benzerlik Skoru: 0.21161197125911713\n",
      "\n",
      "Lemmatized Skipgram Window 2 Dim 300 Modeli - 'bad' ile En Benzer 3 Kelime:\n",
      "Kelime: ki, Benzerlik Skoru: 0.19785353541374207\n",
      "Kelime: false, Benzerlik Skoru: 0.18230026960372925\n",
      "Kelime: faulty, Benzerlik Skoru: 0.11067494750022888\n"
     ]
    }
   ],
   "source": [
    "from gensim.models import Word2Vec\n",
    "\n",
    "# Model dosyalarını yüklemek\n",
    "model_1 = Word2Vec.load(\"lemmatized_model_cbow_window2_dim100.model\")\n",
    "model_2 = Word2Vec.load(\"stemmed_model_skipgram_window4_dim100.model\")\n",
    "model_3 = Word2Vec.load(\"lemmatized_model_skipgram_window2_dim300.model\")\n",
    "\n",
    "# 'fake' kelimesi ile en benzer 3 kelimeyi ve skorlarını yazdırmak\n",
    "def print_similar_words(model, model_name):\n",
    "    similarity = model.wv.most_similar('fake', topn=3)\n",
    "    print(f\"\\n{model_name} Modeli - 'bad' ile En Benzer 3 Kelime:\")\n",
    "    for word, score in similarity:\n",
    "        print(f\"Kelime: {word}, Benzerlik Skoru: {score}\")\n",
    "# 3 model için benzer kelimeleri yazdır\n",
    "print_similar_words(model_1, \"Lemmatized CBOW Window 2 Dim 100\")\n",
    "print_similar_words(model_2, \"Stemmed Skipgram Window 4 Dim 100\")\n",
    "print_similar_words(model_3, \"Lemmatized Skipgram Window 2 Dim 300\")"
   ]
  },
  {
   "cell_type": "code",
   "execution_count": 93,
   "id": "179442d4-af79-4a6a-9744-30b19612b1b6",
   "metadata": {
    "collapsed": true,
    "jupyter": {
     "outputs_hidden": true
    }
   },
   "outputs": [
    {
     "name": "stdout",
     "output_type": "stream",
     "text": [
      "\n",
      "Değerlendirilen Model: Model A\n",
      "1. Benzer Metin: text1\n"
     ]
    },
    {
     "name": "stdin",
     "output_type": "stream",
     "text": [
      "1. metin için benzerlik skoru (1-5):  4\n"
     ]
    },
    {
     "name": "stdout",
     "output_type": "stream",
     "text": [
      "2. Benzer Metin: text2\n"
     ]
    },
    {
     "name": "stdin",
     "output_type": "stream",
     "text": [
      "2. metin için benzerlik skoru (1-5):  \n"
     ]
    },
    {
     "name": "stdout",
     "output_type": "stream",
     "text": [
      "Geçerli bir sayı girin.\n"
     ]
    },
    {
     "name": "stdin",
     "output_type": "stream",
     "text": [
      "2. metin için benzerlik skoru (1-5):  4\n"
     ]
    },
    {
     "name": "stdout",
     "output_type": "stream",
     "text": [
      "3. Benzer Metin: text3\n"
     ]
    },
    {
     "name": "stdin",
     "output_type": "stream",
     "text": [
      "3. metin için benzerlik skoru (1-5):  2\n"
     ]
    },
    {
     "name": "stdout",
     "output_type": "stream",
     "text": [
      "4. Benzer Metin: text4\n"
     ]
    },
    {
     "name": "stdin",
     "output_type": "stream",
     "text": [
      "4. metin için benzerlik skoru (1-5):  3\n"
     ]
    },
    {
     "name": "stdout",
     "output_type": "stream",
     "text": [
      "5. Benzer Metin: text5\n"
     ]
    },
    {
     "name": "stdin",
     "output_type": "stream",
     "text": [
      "5. metin için benzerlik skoru (1-5):  1\n"
     ]
    },
    {
     "name": "stdout",
     "output_type": "stream",
     "text": [
      "Model A Ortalama Skoru: 2.80\n",
      "\n",
      "Değerlendirilen Model: Model B\n",
      "1. Benzer Metin: text6\n"
     ]
    },
    {
     "name": "stdin",
     "output_type": "stream",
     "text": [
      "1. metin için benzerlik skoru (1-5):  3\n"
     ]
    },
    {
     "name": "stdout",
     "output_type": "stream",
     "text": [
      "2. Benzer Metin: text7\n"
     ]
    },
    {
     "name": "stdin",
     "output_type": "stream",
     "text": [
      "2. metin için benzerlik skoru (1-5):  4\n"
     ]
    },
    {
     "name": "stdout",
     "output_type": "stream",
     "text": [
      "3. Benzer Metin: text8\n"
     ]
    },
    {
     "name": "stdin",
     "output_type": "stream",
     "text": [
      "3. metin için benzerlik skoru (1-5):  3\n"
     ]
    },
    {
     "name": "stdout",
     "output_type": "stream",
     "text": [
      "4. Benzer Metin: text9\n"
     ]
    },
    {
     "name": "stdin",
     "output_type": "stream",
     "text": [
      "4. metin için benzerlik skoru (1-5):  3\n"
     ]
    },
    {
     "name": "stdout",
     "output_type": "stream",
     "text": [
      "5. Benzer Metin: text10\n"
     ]
    },
    {
     "name": "stdin",
     "output_type": "stream",
     "text": [
      "5. metin için benzerlik skoru (1-5):  2\n"
     ]
    },
    {
     "name": "stdout",
     "output_type": "stream",
     "text": [
      "Model B Ortalama Skoru: 3.00\n",
      "\n",
      "Değerlendirilen Model: Model C\n",
      "1. Benzer Metin: text11\n"
     ]
    },
    {
     "name": "stdin",
     "output_type": "stream",
     "text": [
      "1. metin için benzerlik skoru (1-5):  \n"
     ]
    },
    {
     "name": "stdout",
     "output_type": "stream",
     "text": [
      "Geçerli bir sayı girin.\n"
     ]
    },
    {
     "name": "stdin",
     "output_type": "stream",
     "text": [
      "1. metin için benzerlik skoru (1-5):  3\n"
     ]
    },
    {
     "name": "stdout",
     "output_type": "stream",
     "text": [
      "2. Benzer Metin: text12\n"
     ]
    },
    {
     "name": "stdin",
     "output_type": "stream",
     "text": [
      "2. metin için benzerlik skoru (1-5):  2\n"
     ]
    },
    {
     "name": "stdout",
     "output_type": "stream",
     "text": [
      "3. Benzer Metin: text13\n"
     ]
    },
    {
     "name": "stdin",
     "output_type": "stream",
     "text": [
      "3. metin için benzerlik skoru (1-5):  4\n"
     ]
    },
    {
     "name": "stdout",
     "output_type": "stream",
     "text": [
      "4. Benzer Metin: text14\n"
     ]
    },
    {
     "name": "stdin",
     "output_type": "stream",
     "text": [
      "4. metin için benzerlik skoru (1-5):  2\n"
     ]
    },
    {
     "name": "stdout",
     "output_type": "stream",
     "text": [
      "5. Benzer Metin: text15\n"
     ]
    },
    {
     "name": "stdin",
     "output_type": "stream",
     "text": [
      "5. metin için benzerlik skoru (1-5):  2\n"
     ]
    },
    {
     "name": "stdout",
     "output_type": "stream",
     "text": [
      "Model C Ortalama Skoru: 2.60\n",
      "\n",
      "--- Özet ---\n",
      "Model A: Skorlar = [4, 4, 2, 3, 1] → Ortalama = 2.80\n",
      "Model B: Skorlar = [3, 4, 3, 3, 2] → Ortalama = 3.00\n",
      "Model C: Skorlar = [3, 2, 4, 2, 2] → Ortalama = 2.60\n"
     ]
    }
   ],
   "source": [
    "def evaluate_model(model_name, similar_texts):\n",
    "    print(f\"\\nDeğerlendirilen Model: {model_name}\")\n",
    "    scores = []\n",
    "\n",
    "    for i, text in enumerate(similar_texts, start=1):\n",
    "        print(f\"{i}. Benzer Metin: {text}\")\n",
    "        while True:\n",
    "            try:\n",
    "                score = int(input(f\"{i}. metin için benzerlik skoru (1-5): \"))\n",
    "                if 1 <= score <= 5:\n",
    "                    scores.append(score)\n",
    "                    break\n",
    "                else:\n",
    "                    print(\"Lütfen 1 ile 5 arasında bir sayı girin.\")\n",
    "            except ValueError:\n",
    "                print(\"Geçerli bir sayı girin.\")\n",
    "\n",
    "    average_score = sum(scores) / len(scores)\n",
    "    print(f\"{model_name} Ortalama Skoru: {average_score:.2f}\")\n",
    "    return model_name, scores, average_score\n",
    "\n",
    "# Örnek veri (yerine kendi model çıktılarınızı koyun)\n",
    "model_outputs = {\n",
    "    \"Model A\": [\"text1\", \"text2\", \"text3\", \"text4\", \"text5\"],\n",
    "    \"Model B\": [\"text6\", \"text7\", \"text8\", \"text9\", \"text10\"],\n",
    "    \"Model C\": [\"text11\", \"text12\", \"text13\", \"text14\", \"text15\"],\n",
    "}\n",
    "\n",
    "# Değerlendirme sonuçlarını toplamak\n",
    "results = []\n",
    "for model_name, texts in model_outputs.items():\n",
    "    results.append(evaluate_model(model_name, texts))\n",
    "\n",
    "# Sonuçları yazdır\n",
    "print(\"\\n--- Özet ---\")\n",
    "for model_name, scores, avg in results:\n",
    "    print(f\"{model_name}: Skorlar = {scores} → Ortalama = {avg:.2f}\")"
   ]
  },
  {
   "cell_type": "code",
   "execution_count": null,
   "id": "3ac437a5-99d1-40d4-8029-62881358e94e",
   "metadata": {},
   "outputs": [],
   "source": []
  }
 ],
 "metadata": {
  "kernelspec": {
   "display_name": "Python [conda env:base] *",
   "language": "python",
   "name": "conda-base-py"
  },
  "language_info": {
   "codemirror_mode": {
    "name": "ipython",
    "version": 3
   },
   "file_extension": ".py",
   "mimetype": "text/x-python",
   "name": "python",
   "nbconvert_exporter": "python",
   "pygments_lexer": "ipython3",
   "version": "3.12.7"
  }
 },
 "nbformat": 4,
 "nbformat_minor": 5
}
