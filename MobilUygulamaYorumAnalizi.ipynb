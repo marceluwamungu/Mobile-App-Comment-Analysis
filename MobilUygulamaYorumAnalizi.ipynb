{
 "cells": [
  {
   "cell_type": "markdown",
   "id": "9060958e-20e8-4b69-8ddc-cbeca6397b57",
   "metadata": {},
   "source": [
    "# Mobil Uygulama Yorum Analizi Problem\n",
    "## İçindekiler\n",
    "1. [adım adım model reposu oluşturma](#adım-adım-model-reposu-oluşturma)\n",
    "2. [kütüphaneler ve kurulum](#kütüphaneler-ve-kurulum)\n",
    "3. [kullanılan veri kümesi amacı](#kullanılan-veri-kümesi-amacı)\n",
    "## adım adım model reposu oluşturma\n",
    "---\n",
    "- Gerekli Kütüphaneleri Yükle\n",
    "-  İncelemeleri Ön İşlemden Geçirin: Temiz metin, Tokenleştirme ve lemmatizasyon, Durdurma kelimelerini kaldırma, Olumsuz incelemeleri filtreleme\n",
    "- Word2Vec Modelini Eğitin: Temizlenmiş yorumları Word2Vec modelini eğitmek veya yüklemek için kullanın:\n",
    "## kullanılan veri kümesi amacı\n",
    "---\n",
    "- Google Play incelemelerinden Temu uygulamasının veri kümesi, yaygın kullanıcı şikayetlerini belirlemek ve kategorize etmek için kullanılır. Olumsuz incelemeleri filtreleyerek, anlamsal kümeleme için Word2Vec uygulayarak ve sıkça bahsedilen sorunları çıkararak, veri kümesi temel sorun alanlarını ortaya çıkarmaya yardımcı olur, geliştiricilerin kullanıcı memnuniyetsizliğini anlamalarını ve uygulama iyileştirmelerine öncelik vermelerini sağlar.\n",
    "## kütüphaneler ve kurulum\n",
    "---\n",
    "-  pandas\n",
    "-  numpy\n",
    "-  plotly.express\n",
    "-  textblob\n",
    "-  matplotlib\n",
    "-  scikit-learn\n",
    "-  gensim\n",
    "-  google-play-scraper\n",
    "\n",
    "#### Veri kaynağı olarak Google google play scraper kütüphanesini kullanma"
   ]
  },
  {
   "cell_type": "code",
   "execution_count": 2,
   "id": "9837a279-5a71-43c5-8d8a-66aca7e5bac7",
   "metadata": {},
   "outputs": [],
   "source": [
    "import nltk\n",
    "import pandas as pd \n",
    "import numpy as np \n",
    "import plotly.express as px\n",
    "#!pip install google-play-scraper           #ilk kurulum google play scraper kütüphanesini \n",
    "from google_play_scraper import app ,reviews"
   ]
  },
  {
   "cell_type": "code",
   "execution_count": 4,
   "id": "8a11f045-f6af-405d-973b-f6f62f3ae597",
   "metadata": {
    "collapsed": true,
    "jupyter": {
     "outputs_hidden": true
    },
    "scrolled": true
   },
   "outputs": [
    {
     "data": {
      "text/html": [
       "<div>\n",
       "<style scoped>\n",
       "    .dataframe tbody tr th:only-of-type {\n",
       "        vertical-align: middle;\n",
       "    }\n",
       "\n",
       "    .dataframe tbody tr th {\n",
       "        vertical-align: top;\n",
       "    }\n",
       "\n",
       "    .dataframe thead th {\n",
       "        text-align: right;\n",
       "    }\n",
       "</style>\n",
       "<table border=\"1\" class=\"dataframe\">\n",
       "  <thead>\n",
       "    <tr style=\"text-align: right;\">\n",
       "      <th></th>\n",
       "      <th>reviewId</th>\n",
       "      <th>userName</th>\n",
       "      <th>userImage</th>\n",
       "      <th>content</th>\n",
       "      <th>score</th>\n",
       "      <th>thumbsUpCount</th>\n",
       "      <th>reviewCreatedVersion</th>\n",
       "      <th>at</th>\n",
       "      <th>replyContent</th>\n",
       "      <th>repliedAt</th>\n",
       "      <th>appVersion</th>\n",
       "    </tr>\n",
       "  </thead>\n",
       "  <tbody>\n",
       "    <tr>\n",
       "      <th>0</th>\n",
       "      <td>4cef2781-41b5-492f-9096-cf084a5db32f</td>\n",
       "      <td>Lisa Fawcett</td>\n",
       "      <td>https://play-lh.googleusercontent.com/a/ACg8oc...</td>\n",
       "      <td>love shopping with Temu. quick and easy to ord...</td>\n",
       "      <td>5</td>\n",
       "      <td>0</td>\n",
       "      <td>None</td>\n",
       "      <td>2025-05-03 19:11:21</td>\n",
       "      <td>None</td>\n",
       "      <td>None</td>\n",
       "      <td>None</td>\n",
       "    </tr>\n",
       "    <tr>\n",
       "      <th>1</th>\n",
       "      <td>c32fe94a-d6f5-436c-ab2e-81ea47bd5c5a</td>\n",
       "      <td>Ahad Bhatti</td>\n",
       "      <td>https://play-lh.googleusercontent.com/a-/ALV-U...</td>\n",
       "      <td>Ya doniya ka sab sa gatiya app ha dakta kosh h...</td>\n",
       "      <td>1</td>\n",
       "      <td>0</td>\n",
       "      <td>None</td>\n",
       "      <td>2025-05-03 19:11:06</td>\n",
       "      <td>None</td>\n",
       "      <td>None</td>\n",
       "      <td>None</td>\n",
       "    </tr>\n",
       "    <tr>\n",
       "      <th>2</th>\n",
       "      <td>22082449-5911-4f2b-8502-9771a24a186c</td>\n",
       "      <td>Moh Ka</td>\n",
       "      <td>https://play-lh.googleusercontent.com/a/ACg8oc...</td>\n",
       "      <td>lovely</td>\n",
       "      <td>5</td>\n",
       "      <td>0</td>\n",
       "      <td>None</td>\n",
       "      <td>2025-05-03 19:10:29</td>\n",
       "      <td>None</td>\n",
       "      <td>None</td>\n",
       "      <td>None</td>\n",
       "    </tr>\n",
       "    <tr>\n",
       "      <th>3</th>\n",
       "      <td>3057d5f4-e468-4d33-8c1c-dc1d82ac4d0f</td>\n",
       "      <td>sharon samuels</td>\n",
       "      <td>https://play-lh.googleusercontent.com/a/ACg8oc...</td>\n",
       "      <td>just such great stuff at cheap prices love it ...</td>\n",
       "      <td>5</td>\n",
       "      <td>0</td>\n",
       "      <td>3.54.0</td>\n",
       "      <td>2025-05-03 19:08:27</td>\n",
       "      <td>None</td>\n",
       "      <td>None</td>\n",
       "      <td>3.54.0</td>\n",
       "    </tr>\n",
       "    <tr>\n",
       "      <th>4</th>\n",
       "      <td>4a2876b5-0f42-4b3f-a15c-3e01fb49f582</td>\n",
       "      <td>Brenda</td>\n",
       "      <td>https://play-lh.googleusercontent.com/a/ACg8oc...</td>\n",
       "      <td>lots of choices. be sure to read the entire de...</td>\n",
       "      <td>4</td>\n",
       "      <td>0</td>\n",
       "      <td>3.54.0</td>\n",
       "      <td>2025-05-03 19:08:17</td>\n",
       "      <td>None</td>\n",
       "      <td>None</td>\n",
       "      <td>3.54.0</td>\n",
       "    </tr>\n",
       "  </tbody>\n",
       "</table>\n",
       "</div>"
      ],
      "text/plain": [
       "                               reviewId        userName  \\\n",
       "0  4cef2781-41b5-492f-9096-cf084a5db32f    Lisa Fawcett   \n",
       "1  c32fe94a-d6f5-436c-ab2e-81ea47bd5c5a     Ahad Bhatti   \n",
       "2  22082449-5911-4f2b-8502-9771a24a186c          Moh Ka   \n",
       "3  3057d5f4-e468-4d33-8c1c-dc1d82ac4d0f  sharon samuels   \n",
       "4  4a2876b5-0f42-4b3f-a15c-3e01fb49f582          Brenda   \n",
       "\n",
       "                                           userImage  \\\n",
       "0  https://play-lh.googleusercontent.com/a/ACg8oc...   \n",
       "1  https://play-lh.googleusercontent.com/a-/ALV-U...   \n",
       "2  https://play-lh.googleusercontent.com/a/ACg8oc...   \n",
       "3  https://play-lh.googleusercontent.com/a/ACg8oc...   \n",
       "4  https://play-lh.googleusercontent.com/a/ACg8oc...   \n",
       "\n",
       "                                             content  score  thumbsUpCount  \\\n",
       "0  love shopping with Temu. quick and easy to ord...      5              0   \n",
       "1  Ya doniya ka sab sa gatiya app ha dakta kosh h...      1              0   \n",
       "2                                             lovely      5              0   \n",
       "3  just such great stuff at cheap prices love it ...      5              0   \n",
       "4  lots of choices. be sure to read the entire de...      4              0   \n",
       "\n",
       "  reviewCreatedVersion                  at replyContent repliedAt appVersion  \n",
       "0                 None 2025-05-03 19:11:21         None      None       None  \n",
       "1                 None 2025-05-03 19:11:06         None      None       None  \n",
       "2                 None 2025-05-03 19:10:29         None      None       None  \n",
       "3               3.54.0 2025-05-03 19:08:27         None      None     3.54.0  \n",
       "4               3.54.0 2025-05-03 19:08:17         None      None     3.54.0  "
      ]
     },
     "execution_count": 4,
     "metadata": {},
     "output_type": "execute_result"
    }
   ],
   "source": [
    "#Temu uygulaması yorumları veri kaynağı olarak kullanıyor ve yalnızca kullanıcılar tarafından yazılmış 50 yorumu seçiyor\n",
    "temu,_ = reviews('com.einnovation.temu',lang='en',country='TR',count=50)\n",
    "#temu\n",
    "#Tabloda 50 yorum görüntüleniyor\n",
    "dataFrame =pd.json_normalize(temu)\n",
    "dataFrame.head()"
   ]
  },
  {
   "cell_type": "code",
   "execution_count": 10,
   "id": "8fcda7eb-ff28-4c56-9fbf-7535aee3904b",
   "metadata": {},
   "outputs": [],
   "source": [
    "# yorum içerik sütununu bir listeye dönüştürme\n",
    "temu_yorumlar =list(dataFrame['content'])\n",
    "#print(temu_yorumlar)"
   ]
  },
  {
   "cell_type": "markdown",
   "id": "780efe37-f161-49a9-a9bf-3db84118545b",
   "metadata": {},
   "source": [
    "##### Olumsuz yorumlar filtrelenir."
   ]
  },
  {
   "cell_type": "code",
   "execution_count": 15,
   "id": "7fb4c5b7-d912-41b7-bc7b-1e7ae00c62c1",
   "metadata": {},
   "outputs": [],
   "source": [
    "#!pip install textblob       #ilk kurulum text blod kütüphanesini\n",
    "from textblob import TextBlob\n",
    "temu_list_yorumlar=[]\n",
    "\n",
    "for comment in temu_yorumlar:\n",
    "    polarity = TextBlob(comment).sentiment.polarity\n",
    "    if polarity < 0:\n",
    "        temu_list_yorumlar.append(comment)\n",
    "        #print(\"Olumsuz yorum:\", comment)\n",
    "        \n",
    "#temu_list_yorumlar"
   ]
  },
  {
   "cell_type": "markdown",
   "id": "e0656b78-c902-40d8-bc91-f3c67d03b059",
   "metadata": {},
   "source": [
    "#### Ön İşleme (Pre-processing) "
   ]
  },
  {
   "cell_type": "code",
   "execution_count": 20,
   "id": "9729f661-7bde-46af-a7fa-99b6c9beb1ac",
   "metadata": {},
   "outputs": [],
   "source": [
    "from nltk.tokenize import word_tokenize, sent_tokenize\n",
    "from nltk.corpus import stopwords\n",
    "from nltk.stem import WordNetLemmatizer, PorterStemmer\n",
    "\n",
    "# Stopwords listesini almak\n",
    "stop_words = set(stopwords.words('english'))\n",
    "stop_words_list = list(stop_words)\n",
    "#print(stop_words_list)"
   ]
  },
  {
   "cell_type": "code",
   "execution_count": 26,
   "id": "d20a3e76-dfa8-4110-8b79-dce6aa67801b",
   "metadata": {},
   "outputs": [],
   "source": [
    "# Kelimeleri tokenleştirip, Sadece harf olan kelimeleri al ve stopword'leri çıkar\n",
    "filtered_sentences = []\n",
    "for sentence in temu_list_yorumlar:\n",
    "    tokens = word_tokenize(sentence) #yorumlar kelimelere böl\n",
    "    filtered_tokens = [] #bos lıste olustur\n",
    "    for token in tokens:\n",
    "        if token.isalpha(): # tokenler metın mı dıye kontrol edıyor(numerık ıse ısleme hıc almıyor)\n",
    "            token_lower = token.lower() # kucuk harfe cevırme\n",
    "            if token_lower not in stop_words: # eger kucuk harfe cevrılmıs bu kelımeler stopword lıstesı ıcınden bır kelıme degılse\n",
    "                filtered_tokens.append(token_lower) #filtered_tokens lıstesıne yukarıdakı krıterlerı saglayan kelımelerı ekle\n",
    "    filtered_sentences.append(filtered_tokens) #fıltre edılmıs cumlelerı filtered_sentences lıstesıne ekle\n",
    "#print(filtered_sentences[:10]) #ılk on yorumlar yazdır."
   ]
  },
  {
   "cell_type": "markdown",
   "id": "2742e9f0-7f3f-4b92-bb0b-c33c13c89907",
   "metadata": {},
   "source": [
    "#####  Tüm yorumları lemmatize edip CSV dosyası olarak kaydedeceğim"
   ]
  },
  {
   "cell_type": "code",
   "execution_count": 31,
   "id": "d0a3ae37-d8a6-4e24-919b-3bae3268f9a0",
   "metadata": {},
   "outputs": [],
   "source": [
    "lemmatizer = WordNetLemmatizer() # Lemmatizeri başlat\n",
    "tokenized_corpus_lemmatized = [] #lemma edılmıs cumlelerı saklamak ıcın bos bır lıste olustur\n",
    "for filtered_tokens in filtered_sentences:\n",
    "    lemmatized_tokens = [] #lemma edılmıs tokenlerı(kelıme) saklamak ıcın bos bır lıste olustur\n",
    "    for token in filtered_tokens:\n",
    "        lemma = lemmatizer.lemmatize(token) #Tokenlerı tek tek lemma etme␣ıslemı\n",
    "        lemmatized_tokens.append(lemma) #Lemma edılmıs tokenlerı lemmatized_tokens lıstesıne ekle\n",
    "    tokenized_corpus_lemmatized.append(lemmatized_tokens) #Lemma edılmıs yorumlar tokenized_corpus_lemmatized lıstesıne ekle\n",
    "#print(tokenized_corpus_lemmatized[:10])"
   ]
  },
  {
   "cell_type": "code",
   "execution_count": 120,
   "id": "0c39bb2d-4a86-47d9-94ae-5832d75527d5",
   "metadata": {},
   "outputs": [],
   "source": [
    "import csv\n",
    "with open(\"lemmatized_temu_yorumlar.csv\", mode=\"w\", newline=\"\", encoding=\"utf-8\") as file:\n",
    "    writer = csv.writer(file)\n",
    "    # Her yorum bir satır olarak yaz\n",
    "    for tokens in tokenized_corpus_lemmatized:\n",
    "        writer.writerow([' '.join(tokens)])"
   ]
  },
  {
   "cell_type": "markdown",
   "id": "7201de7b-2b67-4095-ba9f-9d0afd957c59",
   "metadata": {},
   "source": [
    "##### Tüm yorumları Stemle edip CSV dosyası olarak kaydedeceğim"
   ]
  },
  {
   "cell_type": "code",
   "execution_count": 123,
   "id": "25190b74-1863-4d1a-ac4a-d9beee4b576b",
   "metadata": {},
   "outputs": [],
   "source": [
    "stemmer = PorterStemmer() # stemmeri başlat\n",
    "tokenized_corpus_stemmed = [] #Stem edılmıs yorum saklamak ıcın bos bır lıste olustur\n",
    "for filtered_tokens in filtered_sentences:\n",
    "    stemmed_tokens = [] #Stem edılmıs tokenlerı(kelıme) saklamak ıcın bos bır lıste olustur\n",
    "    for token in filtered_tokens:\n",
    "        stem = stemmer.stem(token) #Tokenlerı tek tek Stem etme ıslemı\n",
    "        stemmed_tokens.append(stem) #Stem edılmıs tokenlerı stemmed_tokens lıstesıne ekle\n",
    "    tokenized_corpus_stemmed.append(stemmed_tokens) #Stem edılmıs yorum tokenized_corpus_stemmed lıstesıne ekle\n",
    "#print(tokenized_corpus_stemmed[:10])"
   ]
  },
  {
   "cell_type": "code",
   "execution_count": 125,
   "id": "016cc2dd-6c01-4570-bbed-83d0c3d34002",
   "metadata": {},
   "outputs": [],
   "source": [
    "with open(\"stemmed_temu_yorumlar.csv\", mode=\"w\", newline=\"\", encoding=\"utf-8\") as file:\n",
    "    writer = csv.writer(file)\n",
    "    # Her yorum bir satır olarak yaz\n",
    "    for tokens in tokenized_corpus_stemmed:\n",
    "        writer.writerow([' '.join(tokens)])"
   ]
  },
  {
   "cell_type": "markdown",
   "id": "5a42e147-9a83-4066-b065-eeecd1139e5f",
   "metadata": {},
   "source": [
    "#### Zipf yasasi"
   ]
  },
  {
   "cell_type": "code",
   "execution_count": 46,
   "id": "a9478379-2976-4971-a417-46ec2a590320",
   "metadata": {},
   "outputs": [],
   "source": [
    "import matplotlib.pyplot as plt\n",
    "from nltk.corpus import gutenberg\n",
    "\n",
    "# Tokenize kelimelere (converting Tokenize list into a list text of words)\n",
    "word_list = []\n",
    "for comment in temu_list_yorumlar:\n",
    "    words = comment.split()  # or use nltk.word_tokenize for better tokenization\n",
    "    word_list.extend(words)\n",
    "\n",
    "#print(word_list[:100])"
   ]
  },
  {
   "cell_type": "code",
   "execution_count": 48,
   "id": "d759fff8-ffc2-47ea-a7af-c408b2d20734",
   "metadata": {
    "collapsed": true,
    "jupyter": {
     "outputs_hidden": true
    },
    "scrolled": true
   },
   "outputs": [
    {
     "data": {
      "image/png": "[encoded data removed]",
      "text/plain": [
       "<Figure size 800x600 with 1 Axes>"
      ]
     },
     "metadata": {},
     "output_type": "display_data"
    }
   ],
   "source": [
    "# Kelime frekanslarını hesapla\n",
    "word_freq = {} # kutuphane kullanmadan\n",
    "for word in word_list:\n",
    "    word_freq[word] = word_freq.get(word, 0) + 1\n",
    "# Frekansları azalan şekilde sırala\n",
    "sorted_freqs = sorted(word_freq.values(), reverse=True)\n",
    "# Rank (sıralama) oluştur\n",
    "ranks = np.arange(1, len(sorted_freqs) + 1)\n",
    "# Log-log grafiği çiz\n",
    "plt.figure(figsize=(8, 6))\n",
    "plt.loglog(ranks, sorted_freqs, marker=\"o\", linestyle=\"none\", markersize=4, alpha=0.7, color=\"b\")\n",
    "# Grafik etiketleri\n",
    "plt.xlabel(\"Kelime Sırası (log)\")\n",
    "plt.ylabel(\"Frekans (log)\")\n",
    "plt.title(\"Temu Yorumlar İçin Zipf Yasası\")\n",
    "plt.grid(True, which=\"both\", linestyle=\"--\", linewidth=0.5)\n",
    "plt.show()"
   ]
  },
  {
   "cell_type": "code",
   "execution_count": 50,
   "id": "16e9c306-7b35-4552-9730-0a24ba98ad67",
   "metadata": {},
   "outputs": [
    {
     "name": "stdout",
     "output_type": "stream",
     "text": [
      "Toplam kelime (tokens): 155\n",
      "Benzersiz kelime (vocab size): 118\n"
     ]
    }
   ],
   "source": [
    "print(\"Toplam kelime (tokens):\", len(word_list)) #Toplam kelime\n",
    "print(\"Benzersiz kelime (vocab size):\", len(set(word_list))) #Benzersiz kelime "
   ]
  },
  {
   "cell_type": "markdown",
   "id": "391fc810-14f8-4162-a719-61c3d5ae75cb",
   "metadata": {},
   "source": [
    "### A. TF-IDF Vektörleştirme\n",
    "##### Lematize edilmiş veri kümesinin TF-IDF vektörleştirme işlemi."
   ]
  },
  {
   "cell_type": "code",
   "execution_count": 53,
   "id": "bc819445-0a6d-490d-a3d5-fbddcd6ac2f8",
   "metadata": {},
   "outputs": [
    {
     "data": {
      "text/plain": [
       "['free bol keh ab pesy ki cheez ke cheater cheaper bloody fake',\n",
       " 'dont deceive people fake free promotion',\n",
       " 'poor system fake item',\n",
       " 'bombarded ad cant even use app keep opening random tab keep popping random panel ad gift tab yet none real price also higher platform like shopee lazada like install scam app',\n",
       " 'fake gift reward',\n",
       " 'tried cuff bp monitor giving false reading double normal reading made confused worried check bp another monitor find bp lower go hospital check sending monitor back faulty ca trust machine something wrong',\n",
       " 'fake fraud']"
      ]
     },
     "execution_count": 53,
     "metadata": {},
     "output_type": "execute_result"
    }
   ],
   "source": [
    "from sklearn.feature_extraction.text import TfidfVectorizer\n",
    "#!pip install scikit-learn\n",
    "\n",
    "# Ön işlenmiş token listelerini tekrar metne çeviriyoruz\n",
    "lemmatized_texts = [' '.join(tokens) for tokens in tokenized_corpus_lemmatized]\n",
    "lemmatized_texts[:10]"
   ]
  },
  {
   "cell_type": "code",
   "execution_count": 55,
   "id": "07e463cf-26b0-4795-a0b7-f3b01ec4fd85",
   "metadata": {
    "collapsed": true,
    "jupyter": {
     "outputs_hidden": true
    }
   },
   "outputs": [
    {
     "name": "stdout",
     "output_type": "stream",
     "text": [
      "         ab        ad      also  another       app  back    bloody       bol  \\\n",
      "0  0.301783  0.000000  0.000000      0.0  0.000000   0.0  0.301783  0.301783   \n",
      "1  0.000000  0.000000  0.000000      0.0  0.000000   0.0  0.000000  0.000000   \n",
      "2  0.000000  0.000000  0.000000      0.0  0.000000   0.0  0.000000  0.000000   \n",
      "3  0.000000  0.306106  0.153053      0.0  0.306106   0.0  0.000000  0.000000   \n",
      "4  0.000000  0.000000  0.000000      0.0  0.000000   0.0  0.000000  0.000000   \n",
      "\n",
      "   bombarded   bp  ...    shopee  something    system       tab  tried  trust  \\\n",
      "0   0.000000  0.0  ...  0.000000        0.0  0.000000  0.000000    0.0    0.0   \n",
      "1   0.000000  0.0  ...  0.000000        0.0  0.000000  0.000000    0.0    0.0   \n",
      "2   0.000000  0.0  ...  0.000000        0.0  0.551219  0.000000    0.0    0.0   \n",
      "3   0.153053  0.0  ...  0.153053        0.0  0.000000  0.306106    0.0    0.0   \n",
      "4   0.000000  0.0  ...  0.000000        0.0  0.000000  0.000000    0.0    0.0   \n",
      "\n",
      "        use  worried  wrong       yet  \n",
      "0  0.000000      0.0    0.0  0.000000  \n",
      "1  0.000000      0.0    0.0  0.000000  \n",
      "2  0.000000      0.0    0.0  0.000000  \n",
      "3  0.153053      0.0    0.0  0.153053  \n",
      "4  0.000000      0.0    0.0  0.000000  \n",
      "\n",
      "[5 rows x 72 columns]\n"
     ]
    }
   ],
   "source": [
    "# TF-IDF vektörizerı başlatıyoruz\n",
    "vectorizer = TfidfVectorizer()\n",
    "# TF-IDF matrisini oluşturuyoruz\n",
    "#terim frekansları, belge frekanslarıni hesplar\n",
    "#TF-IDF vektörlerine dönüştürür\n",
    "tfidf_matrix = vectorizer.fit_transform(lemmatized_texts)\n",
    "## Kelimeleri alalım\n",
    "#F-IDF vektörleştirme işleminde kullanılan tüm kelimelerin essiz bir listesini döndürur\n",
    "feature_names = vectorizer.get_feature_names_out()\n",
    "# TF-IDF matrisini pandas DataFrame'e çevir-gorunurluk acisindan- calismasi kolay\n",
    "tfidf_df = pd.DataFrame(tfidf_matrix.toarray(), columns=feature_names)\n",
    "# İlk birkaç satırı gösterelim-ilk 5 cümle\n",
    "print(tfidf_df.head())\n",
    "#Her satır bir yorum temsil eder\n",
    "#Her sütun bir kelimeyi temsil eder\n",
    "#Hücreler ise o kelimenin o yorumdeki TF-IDF skorudur - her yorum icin degisir-bakiniz:slaytlar"
   ]
  },
  {
   "cell_type": "code",
   "execution_count": 65,
   "id": "19d92486-66be-47e6-ae9d-35ceaca72557",
   "metadata": {},
   "outputs": [
    {
     "name": "stdout",
     "output_type": "stream",
     "text": [
      "İkinci yorum en yüksek TF-IDF skoruna sahip 9 kelime:\n",
      "poor        0.551219\n",
      "item        0.551219\n",
      "system      0.551219\n",
      "fake        0.297446\n",
      "normal      0.000000\n",
      "platform    0.000000\n",
      "pesy        0.000000\n",
      "people      0.000000\n",
      "panel       0.000000\n",
      "Name: 2, dtype: float64\n"
     ]
    }
   ],
   "source": [
    "# İkinci cümle için TF-IDF skorlarını al\n",
    "first_comment_vector = tfidf_df.iloc[2]\n",
    "# Skorlara göre sırala (yüksekten düşüğe)\n",
    "top_9_words = first_comment_vector.sort_values(ascending=False).head(9)\n",
    "# Sonucu yazdır\n",
    "print(\"İkinci yorum en yüksek TF-IDF skoruna sahip 9 kelime:\")\n",
    "print(top_9_words)"
   ]
  },
  {
   "cell_type": "code",
   "execution_count": 71,
   "id": "3b170db8-eafe-4343-a7b6-0aa782571df1",
   "metadata": {},
   "outputs": [
    {
     "name": "stdout",
     "output_type": "stream",
     "text": [
      "fake: 1.0000\n",
      "fraud: 0.6427\n",
      "reward: 0.5189\n",
      "gift: 0.5073\n",
      "poor: 0.4025\n",
      "item: 0.4025\n"
     ]
    }
   ],
   "source": [
    "from sklearn.metrics.pairwise import cosine_similarity\n",
    "\n",
    "# fake kelimesinin vektörünü alalım\n",
    "fake_index = feature_names.tolist().index('fake') # 'fake' kelimesinin indeksini bul\n",
    "# scam kelimesinin TF-IDF vektörünü alıyoruz ve 2D formatta yapıyoruz\n",
    "fake_vector = tfidf_matrix[:, fake_index].toarray()\n",
    "# Tüm kelimelerin TF-IDF vektörlerini alıyoruz\n",
    "tfidf_vectors = tfidf_matrix.toarray()\n",
    "# Cosine similarity hesaplayalım\n",
    "similarities = cosine_similarity(fake_vector.T, tfidf_vectors.T)\n",
    "# Benzerlikleri sıralayalım ve en yüksek 5 kelimeyi seçelim\n",
    "similarities = similarities.flatten()\n",
    "top_5_indices = similarities.argsort()[-6:][::-1] # 6. en büyükten başlıyoruz çünkü kendisi de dahil\n",
    "# Sonuçları yazdıralım\n",
    "for index in top_5_indices:\n",
    "    print(f\"{feature_names[index]}: {similarities[index]:.4f}\")"
   ]
  },
  {
   "cell_type": "code",
   "execution_count": 73,
   "id": "43468cfe-09ae-474d-8835-efdd62e67bed",
   "metadata": {},
   "outputs": [],
   "source": [
    "# lemmatize edilmiş, temizlenmiş TF-IDF vektörleştirilmiş tema yorumlarını bir csv dosyasına kaydet\n",
    "\n",
    "# Sonuçları listele\n",
    "results = [(feature_names[i], round(similarities[i], 4)) for i in top_5_indices]\n",
    "\n",
    "with open(\"tfidf_lemmatized.csv\", mode=\"w\", newline=\"\", encoding=\"utf-8\") as file:\n",
    "    writer = csv.writer(file)\n",
    "    writer.writerow(['kelime', 'benzerlik'])\n",
    "    writer.writerows(results)"
   ]
  },
  {
   "cell_type": "markdown",
   "id": "fdb23cfa-5652-4a11-ae7c-c928da44e7e7",
   "metadata": {},
   "source": [
    "##### stem edilmiş veri kümesinin TF-IDF vektörleştirme işlemi."
   ]
  },
  {
   "cell_type": "code",
   "execution_count": 76,
   "id": "7f9e7f47-d7d0-4d7f-ab62-6c39a6d58ca4",
   "metadata": {
    "collapsed": true,
    "jupyter": {
     "outputs_hidden": true
    },
    "scrolled": true
   },
   "outputs": [
    {
     "data": {
      "text/plain": [
       "['free bol keh ab pesi ki cheez ke cheater cheaper bloodi fake',\n",
       " 'dont deceiv peopl fake free promot',\n",
       " 'poor system fake item',\n",
       " 'bombard ad cant even use app keep open random tab keep pop random panel ad gift tab yet none real price also higher platform like shope lazada like instal scam app',\n",
       " 'fake gift reward',\n",
       " 'tri cuff bp monitor give fals read doubl normal read made confus worri check bp anoth monitor find bp lower go hospit check send monitor back faulti ca trust machin someth wrong',\n",
       " 'fake fraud']"
      ]
     },
     "execution_count": 76,
     "metadata": {},
     "output_type": "execute_result"
    }
   ],
   "source": [
    "# Ön işlenmiş token listelerini tekrar metne çeviriyoruz\n",
    "stemmed_texts = [' '.join(tokens) for tokens in tokenized_corpus_stemmed]\n",
    "stemmed_texts[:10]"
   ]
  },
  {
   "cell_type": "code",
   "execution_count": 78,
   "id": "44d15590-8517-4994-b712-bfe5de7e8c28",
   "metadata": {
    "collapsed": true,
    "jupyter": {
     "outputs_hidden": true
    },
    "scrolled": true
   },
   "outputs": [
    {
     "name": "stdout",
     "output_type": "stream",
     "text": [
      "         ab        ad      also  anoth       app  back    bloodi       bol  \\\n",
      "0  0.301783  0.000000  0.000000    0.0  0.000000   0.0  0.301783  0.301783   \n",
      "1  0.000000  0.000000  0.000000    0.0  0.000000   0.0  0.000000  0.000000   \n",
      "2  0.000000  0.000000  0.000000    0.0  0.000000   0.0  0.000000  0.000000   \n",
      "3  0.000000  0.306106  0.153053    0.0  0.306106   0.0  0.000000  0.000000   \n",
      "4  0.000000  0.000000  0.000000    0.0  0.000000   0.0  0.000000  0.000000   \n",
      "\n",
      "    bombard   bp  ...     shope  someth    system       tab  tri  trust  \\\n",
      "0  0.000000  0.0  ...  0.000000     0.0  0.000000  0.000000  0.0    0.0   \n",
      "1  0.000000  0.0  ...  0.000000     0.0  0.000000  0.000000  0.0    0.0   \n",
      "2  0.000000  0.0  ...  0.000000     0.0  0.551219  0.000000  0.0    0.0   \n",
      "3  0.153053  0.0  ...  0.153053     0.0  0.000000  0.306106  0.0    0.0   \n",
      "4  0.000000  0.0  ...  0.000000     0.0  0.000000  0.000000  0.0    0.0   \n",
      "\n",
      "        use  worri  wrong       yet  \n",
      "0  0.000000    0.0    0.0  0.000000  \n",
      "1  0.000000    0.0    0.0  0.000000  \n",
      "2  0.000000    0.0    0.0  0.000000  \n",
      "3  0.153053    0.0    0.0  0.153053  \n",
      "4  0.000000    0.0    0.0  0.000000  \n",
      "\n",
      "[5 rows x 72 columns]\n"
     ]
    }
   ],
   "source": [
    "# TF-IDF vektörizerı başlatıyoruz\n",
    "vectorizer = TfidfVectorizer()\n",
    "# TF-IDF matrisini oluşturuyoruz\n",
    "#terim frekansları, belge frekanslarıni hesplar\n",
    "#TF-IDF vektörlerine dönüştürür\n",
    "tfidf_matrix = vectorizer.fit_transform(stemmed_texts)\n",
    "## Kelimeleri alalım\n",
    "#F-IDF vektörleştirme işleminde kullanılan tüm kelimelerin essiz bir listesini döndürur\n",
    "feature_names = vectorizer.get_feature_names_out()\n",
    "# TF-IDF matrisini pandas DataFrame'e çevir-gorunurluk acisindan- calismasi kolay\n",
    "tfidf_df = pd.DataFrame(tfidf_matrix.toarray(), columns=feature_names)\n",
    "# İlk birkaç satırı gösterelim-ilk 5 cümle\n",
    "print(tfidf_df.head())\n",
    "#Her satır bir yorum temsil eder\n",
    "#Her sütun bir kelimeyi temsil eder\n",
    "#Hücreler ise o kelimenin o yorumdeki TF-IDF skorudur - her yorum icin degisir-bakiniz:slaytlar"
   ]
  },
  {
   "cell_type": "code",
   "execution_count": 84,
   "id": "0bdaf84a-b501-49b6-a6c2-023915a2d0cf",
   "metadata": {},
   "outputs": [
    {
     "name": "stdout",
     "output_type": "stream",
     "text": [
      "İkinci yorum en yüksek TF-IDF skoruna sahip 9 kelime:\n",
      "dont        0.448100\n",
      "deceiv      0.448100\n",
      "promot      0.448100\n",
      "peopl       0.448100\n",
      "free        0.371962\n",
      "fake        0.241802\n",
      "price       0.000000\n",
      "poor        0.000000\n",
      "platform    0.000000\n",
      "Name: 1, dtype: float64\n"
     ]
    }
   ],
   "source": [
    "# İkinci yorum için TF-IDF skorlarını al\n",
    "first_yorum_vector = tfidf_df.iloc[1]\n",
    "# Skorlara göre sırala (yüksekten düşüğe)\n",
    "top_9_words = first_yorum_vector.sort_values(ascending=False).head(9)\n",
    "# Sonucu yazdır\n",
    "print(\"İkinci yorum en yüksek TF-IDF skoruna sahip 9 kelime:\")\n",
    "print(top_9_words)"
   ]
  },
  {
   "cell_type": "code",
   "execution_count": 86,
   "id": "86cc7929-e6b1-4828-aa27-3dc0c36dc581",
   "metadata": {
    "collapsed": true,
    "jupyter": {
     "outputs_hidden": true
    },
    "scrolled": true
   },
   "outputs": [
    {
     "name": "stdout",
     "output_type": "stream",
     "text": [
      "fake: 1.0000\n",
      "fraud: 0.6427\n",
      "reward: 0.5189\n",
      "gift: 0.5073\n",
      "poor: 0.4025\n",
      "item: 0.4025\n"
     ]
    }
   ],
   "source": [
    "# fake kelimesinin vektörünü alalım\n",
    "fake_index = feature_names.tolist().index('fake') # 'fake' kelimesinin indeksini bul\n",
    "# fake kelimesinin TF-IDF vektörünü alıyoruz ve 2D formatta yapıyoruz\n",
    "fake_vector = tfidf_matrix[:, fake_index].toarray()\n",
    "# Tüm kelimelerin TF-IDF vektörlerini alıyoruz\n",
    "tfidf_vectors = tfidf_matrix.toarray()\n",
    "# Cosine similarity hesaplayalım\n",
    "similarities = cosine_similarity(fake_vector.T, tfidf_vectors.T)\n",
    "# Benzerlikleri sıralayalım ve en yüksek 5 kelimeyi seçelim\n",
    "similarities = similarities.flatten()\n",
    "top_5_indices = similarities.argsort()[-6:][::-1] # 6. en büyükten başlıyoruz çünkü kendisi de dahil\n",
    "# Sonuçları yazdıralım\n",
    "for index in top_5_indices:\n",
    "    print(f\"{feature_names[index]}: {similarities[index]:.4f}\")"
   ]
  },
  {
   "cell_type": "code",
   "execution_count": 88,
   "id": "4606d0f1-62dc-4618-8850-35e6a029c3cf",
   "metadata": {},
   "outputs": [],
   "source": [
    "# steme edilmiş, temizlenmiş TF-IDF vektörleştirilmiş tema yorumlarını bir csv dosyasına kaydet\n",
    "\n",
    "# Sonuçları listele\n",
    "results = [(feature_names[i], round(similarities[i], 4)) for i in top_5_indices]\n",
    "\n",
    "with open(\"tfidf_stemmed.csv\", mode=\"w\", newline=\"\", encoding=\"utf-8\") as file:\n",
    "    writer = csv.writer(file)\n",
    "    writer.writerow(['kelime', 'benzerlik'])\n",
    "    writer.writerows(results)"
   ]
  },
  {
   "cell_type": "markdown",
   "id": "ba39f1a0-83ec-4ca7-9156-2d5371beb3ca",
   "metadata": {},
   "source": [
    "### En çok tekrar eden şikayet başlıkları çıkarılır."
   ]
  },
  {
   "cell_type": "code",
   "execution_count": 91,
   "id": "20a0d2a0-e8a3-468a-81a3-e4eb1c6246de",
   "metadata": {},
   "outputs": [
    {
     "name": "stdout",
     "output_type": "stream",
     "text": [
      "Most common complaint topics:\n",
      "fake: 5\n",
      "bp: 3\n",
      "monitor: 3\n",
      "free: 2\n",
      "ad: 2\n",
      "app: 2\n",
      "keep: 2\n"
     ]
    }
   ],
   "source": [
    "from collections import Counter\n",
    "import itertools\n",
    "# Tüm belirteçleştirilmiş kelimeleri düzleştir (Flatten all tokenized words)\n",
    "all_words = list(itertools.chain.from_iterable(tokenized_corpus_lemmatized))\n",
    "\n",
    "# Count word frequency\n",
    "word_freq = Counter(all_words)\n",
    "\n",
    "# Get the most common complaint topics\n",
    "common_complaints = word_freq.most_common(7)\n",
    "print(\"Most common complaint topics:\")\n",
    "for word, freq in common_complaints:\n",
    "    print(f\"{word}: {freq}\")"
   ]
  },
  {
   "cell_type": "markdown",
   "id": "5eeb1a72-d391-4d59-9e41-5c8ded6a5fc2",
   "metadata": {},
   "source": [
    "### B. Word2Vec Vektörleştirme"
   ]
  },
  {
   "cell_type": "code",
   "execution_count": 94,
   "id": "4052339b-4d25-433c-b8f2-e1e7ca718f6b",
   "metadata": {},
   "outputs": [],
   "source": [
    "import gensim\n",
    "from gensim.models import Word2Vec"
   ]
  },
  {
   "cell_type": "code",
   "execution_count": 106,
   "id": "80235827-6479-4e69-82d7-45a43c9815a3",
   "metadata": {
    "collapsed": true,
    "jupyter": {
     "outputs_hidden": true
    },
    "scrolled": true
   },
   "outputs": [
    {
     "name": "stdout",
     "output_type": "stream",
     "text": [
      "word2vec_lemmatized_cbow_window2_dim100 model saved!\n",
      "word2vec_lemmatized_skipgram_window2_dim100 model saved!\n",
      "word2vec_lemmatized_cbow_window4_dim100 model saved!\n",
      "word2vec_lemmatized_skipgram_window4_dim100 model saved!\n",
      "word2vec_lemmatized_cbow_window2_dim300 model saved!\n",
      "word2vec_lemmatized_skipgram_window2_dim300 model saved!\n",
      "word2vec_lemmatized_cbow_window4_dim300 model saved!\n",
      "word2vec_lemmatized_skipgram_window4_dim300 model saved!\n",
      "stemmed_model_cbow_window2_dim100 model saved!\n",
      "stemmed_model_skipgram_window2_dim100 model saved!\n",
      "stemmed_model_cbow_window4_dim100 model saved!\n",
      "stemmed_model_skipgram_window4_dim100 model saved!\n",
      "stemmed_model_cbow_window2_dim300 model saved!\n",
      "stemmed_model_skipgram_window2_dim300 model saved!\n",
      "stemmed_model_cbow_window4_dim300 model saved!\n",
      "stemmed_model_skipgram_window4_dim300 model saved!\n"
     ]
    }
   ],
   "source": [
    "#tokenized_corpus_lemmatized\n",
    "#tokenized_corpus_stemmed\n",
    "\n",
    "# Word2Vec modeli eğitmek için parametreler\n",
    "parameters = [ {'model_type': 'cbow', 'window': 2, 'vector_size': 100},\n",
    " {'model_type': 'skipgram', 'window': 2, 'vector_size': 100},\n",
    " {'model_type': 'cbow', 'window': 4, 'vector_size': 100},\n",
    " {'model_type': 'skipgram', 'window': 4, 'vector_size': 100},\n",
    " {'model_type': 'cbow', 'window': 2, 'vector_size': 300},\n",
    " {'model_type': 'skipgram', 'window': 2, 'vector_size': 300},\n",
    " {'model_type': 'cbow', 'window': 4, 'vector_size': 300},\n",
    " {'model_type': 'skipgram', 'window': 4, 'vector_size': 300}]\n",
    "\n",
    "# Fonksiyon ile Word2Vec modeli eğitme ve kaydetme\n",
    "def train_and_save_model(corpus, params, model_name):\n",
    "    model = Word2Vec(corpus, vector_size=params['vector_size'], window=params['window'], min_count=1, sg=1 if params['model_type'] == 'skipgram' else 0)\n",
    "    model.save(f\"{model_name}_{params['model_type']}_window{params['window']}_dim{params['vector_size']}.model\")\n",
    "    print(f\"{model_name}_{params['model_type']}_window{params['window']}_dim{params['vector_size']} model saved!\")\n",
    "# Lemmatize edilmiş corpus ile modelleri eğitme ve kaydetme\n",
    "for param in parameters:\n",
    "    train_and_save_model(tokenized_corpus_lemmatized, param, \"word2vec_lemmatized\")\n",
    "# Stemlenmiş corpus ile modelleri eğitme ve kaydetme\n",
    "for param in parameters:\n",
    "    train_and_save_model(tokenized_corpus_stemmed, param, \"stemmed_model\")"
   ]
  },
  {
   "cell_type": "code",
   "execution_count": 108,
   "id": "272e019b-7463-43a7-aabc-5a5fc9fc553c",
   "metadata": {
    "collapsed": true,
    "jupyter": {
     "outputs_hidden": true
    }
   },
   "outputs": [
    {
     "name": "stdout",
     "output_type": "stream",
     "text": [
      "\n",
      "Lemmatized CBOW Window 2 Dim 100 Modeli - 'fake' ile En Benzer 3 Kelime:\n",
      "Kelime: popping, Benzerlik Skoru: 0.21889738738536835\n",
      "Kelime: ad, Benzerlik Skoru: 0.2164149433374405\n",
      "Kelime: lazada, Benzerlik Skoru: 0.20447270572185516\n",
      "\n",
      "Stemmed Skipgram Window 4 Dim 100 Modeli - 'fake' ile En Benzer 3 Kelime:\n",
      "Kelime: pop, Benzerlik Skoru: 0.21942995488643646\n",
      "Kelime: ad, Benzerlik Skoru: 0.2169867902994156\n",
      "Kelime: lazada, Benzerlik Skoru: 0.20620104670524597\n",
      "\n",
      "Lemmatized Skipgram Window 2 Dim 300 Modeli - 'fake' ile En Benzer 3 Kelime:\n",
      "Kelime: ki, Benzerlik Skoru: 0.19785353541374207\n",
      "Kelime: false, Benzerlik Skoru: 0.18230026960372925\n",
      "Kelime: faulty, Benzerlik Skoru: 0.11067494750022888\n"
     ]
    }
   ],
   "source": [
    "from gensim.models import Word2Vec\n",
    "\n",
    "# Model dosyalarını yüklemek\n",
    "model_1 = Word2Vec.load(\"lemmatized_model_cbow_window2_dim100.model\")\n",
    "model_2 = Word2Vec.load(\"stemmed_model_skipgram_window4_dim100.model\")\n",
    "model_3 = Word2Vec.load(\"lemmatized_model_skipgram_window2_dim300.model\")\n",
    "\n",
    "# 'fake' kelimesi ile en benzer 3 kelimeyi ve skorlarını yazdırmak\n",
    "def print_similar_words(model, model_name):\n",
    "    similarity = model.wv.most_similar('fake', topn=3)\n",
    "    print(f\"\\n{model_name} Modeli - 'fake' ile En Benzer 3 Kelime:\")\n",
    "    for word, score in similarity:\n",
    "        print(f\"Kelime: {word}, Benzerlik Skoru: {score}\")\n",
    "# 3 model için benzer kelimeleri yazdır\n",
    "print_similar_words(model_1, \"Lemmatized CBOW Window 2 Dim 100\")\n",
    "print_similar_words(model_2, \"Stemmed Skipgram Window 4 Dim 100\")\n",
    "print_similar_words(model_3, \"Lemmatized Skipgram Window 2 Dim 300\")"
   ]
  },
  {
   "cell_type": "code",
   "execution_count": null,
   "id": "bf5a6159-6df4-45e3-8e58-e822208ff7b9",
   "metadata": {},
   "outputs": [],
   "source": []
  }
 ],
 "metadata": {
  "kernelspec": {
   "display_name": "Python [conda env:base] *",
   "language": "python",
   "name": "conda-base-py"
  },
  "language_info": {
   "codemirror_mode": {
    "name": "ipython",
    "version": 3
   },
   "file_extension": ".py",
   "mimetype": "text/x-python",
   "name": "python",
   "nbconvert_exporter": "python",
   "pygments_lexer": "ipython3",
   "version": "3.12.7"
  }
 },
 "nbformat": 4,
 "nbformat_minor": 5
}
